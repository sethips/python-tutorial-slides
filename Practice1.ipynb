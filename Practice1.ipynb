{
 "metadata": {
  "name": ""
 },
 "nbformat": 3,
 "nbformat_minor": 0,
 "worksheets": [
  {
   "cells": [
    {
     "cell_type": "heading",
     "level": 1,
     "metadata": {},
     "source": [
      "IPython \u57fa\u672c\u4f7f\u7528"
     ]
    },
    {
     "cell_type": "markdown",
     "metadata": {},
     "source": [
      "\u9019\u908a\u4e3b\u8981\u8b1b\u4e00\u4e9b\u7c21\u55ae\u7684 IPython \u4f7f\u7528\uff0c\u4ee5\u53ca\u4ed6 **magic functions** \u7684\u4ecb\u7d39\u3002\n",
      "\n",
      "\u66f4\u591a\u53ef\u4ee5\u53c3\u8003 [\u5b98\u7db2\u7bc4\u4f8b][1]\n",
      "\n",
      "[1]: http://nbviewer.ipython.org/urls/raw.github.com/ipython/ipython/1.x/examples/notebooks/Cell%20Magics.ipynb\n",
      "\n",
      "\n",
      "`!...` \u958b\u982d\u7684\u5c31\u662f\u57f7\u884c Bash Shell \u7684\u6307\u4ee4\uff0c\u5982 `!head ...`\n",
      "\n",
      "\u4f46\u5f88\u5e38\u7528\u7684\u50cf `ls` \u4ee5\u53ca `cd` \u5df2\u7d93\u88ab\u9ed8\u8a8d\u4e86\uff0c\u5c31\u4e0d\u5fc5\u52a0 `!` \u3002\n"
     ]
    },
    {
     "cell_type": "code",
     "collapsed": false,
     "input": [
      "!ls"
     ],
     "language": "python",
     "metadata": {},
     "outputs": [
      {
       "output_type": "stream",
       "stream": "stdout",
       "text": [
        "Kynes.txt       Kynes_clean.txt \u001b[1m\u001b[36mold.2013.04\u001b[m\u001b[m     seq.fa\r\n"
       ]
      }
     ],
     "prompt_number": 80
    },
    {
     "cell_type": "code",
     "collapsed": false,
     "input": [
      "ls"
     ],
     "language": "python",
     "metadata": {},
     "outputs": [
      {
       "output_type": "stream",
       "stream": "stdout",
       "text": [
        "Kynes.txt        Kynes_clean.txt  \u001b[1m\u001b[36mold.2013.04\u001b[m\u001b[m/     seq.fa\r\n"
       ]
      }
     ],
     "prompt_number": 81
    },
    {
     "cell_type": "code",
     "collapsed": false,
     "input": [
      "cd demo_code/"
     ],
     "language": "python",
     "metadata": {},
     "outputs": [
      {
       "output_type": "stream",
       "stream": "stdout",
       "text": [
        "[Errno 2] No such file or directory: 'demo_code/'\n",
        "/Users/liang/code/python-tutorial/demo_code\n"
       ]
      }
     ],
     "prompt_number": 82
    },
    {
     "cell_type": "heading",
     "level": 1,
     "metadata": {},
     "source": [
      "\u5b57\u4e32\u8655\u7406"
     ]
    },
    {
     "cell_type": "markdown",
     "metadata": {},
     "source": [
      "## \u6574\u7406 `Kynes.txt`\n",
      "\n",
      "\u76ee\u6a19\uff1a\n",
      "\n",
      "- \u628a\u4e2d\u9593\u591a\u9918\u7684\u7a7a\u767d\u8207\u63db\u884c\u6e05\u9664\n",
      "- \u53bb\u6389\u982d\u5c3e\u7684`\"`\n",
      "- \u8f38\u51fa\u81f3 `Kynes_clean.txt`\n"
     ]
    },
    {
     "cell_type": "code",
     "collapsed": false,
     "input": [
      "!head Kynes.txt"
     ],
     "language": "python",
     "metadata": {},
     "outputs": [
      {
       "output_type": "stream",
       "stream": "stdout",
       "text": [
        "\"The long run is a misleading guide to current affairs.\r\n",
        "\r\n",
        "           In the long run we are all dead. They set themselves\r\n",
        "\r\n",
        "                      too easy, too useless a task if in tempestuous seasons\r\n",
        "\r\n",
        "                                 they can only tell us when the storm is long past,\r\n",
        "\r\n",
        "                                            the ocean will be flat.\"\r\n"
       ]
      }
     ],
     "prompt_number": 83
    },
    {
     "cell_type": "markdown",
     "metadata": {},
     "source": [
      "\u5148\u5c07 `Kynes.txt` \u8b80\u5165\uff0c\u6211\u5011\u53ef\u4ee5\n",
      "\n",
      "- \u4e00\u6b21\u8b80\u5165  `file.read()`\n",
      "- \u9010\u884c\u8b80\u5165  `for line in file`\n",
      "\n",
      "\u5b8c\u6210\u8655\u7406\u5f8c\u597d\u7fd2\u6163\uff0c\u8a18\u5f97\u95dc\u6a94 `file.close()`"
     ]
    },
    {
     "cell_type": "code",
     "collapsed": false,
     "input": [
      "kynes_raw_file = open('Kynes.txt')\n",
      "print(kynes_raw_file.read())\n",
      "kynes_raw_file.close()"
     ],
     "language": "python",
     "metadata": {},
     "outputs": [
      {
       "output_type": "stream",
       "stream": "stdout",
       "text": [
        "\"The long run is a misleading guide to current affairs.\n",
        "\n",
        "           In the long run we are all dead. They set themselves\n",
        "\n",
        "                      too easy, too useless a task if in tempestuous seasons\n",
        "\n",
        "                                 they can only tell us when the storm is long past,\n",
        "\n",
        "                                            the ocean will be flat.\"\n",
        "\n"
       ]
      }
     ],
     "prompt_number": 84
    },
    {
     "cell_type": "code",
     "collapsed": false,
     "input": [
      "kynes_raw_file = open('Kynes.txt')\n",
      "# enumerate() \u6703\u591a\u56de\u50b3\u4e00\u500b\u884c\u6578 (index)\n",
      "for i, line in enumerate(kynes_raw_file):\n",
      "    print(i, line)\n",
      "\n",
      "kynes_raw_file.close()"
     ],
     "language": "python",
     "metadata": {},
     "outputs": [
      {
       "output_type": "stream",
       "stream": "stdout",
       "text": [
        "0 \"The long run is a misleading guide to current affairs.\n",
        "\n",
        "1 \n",
        "\n",
        "2            In the long run we are all dead. They set themselves\n",
        "\n",
        "3 \n",
        "\n",
        "4                       too easy, too useless a task if in tempestuous seasons\n",
        "\n",
        "5 \n",
        "\n",
        "6                                  they can only tell us when the storm is long past,\n",
        "\n",
        "7 \n",
        "\n",
        "8                                             the ocean will be flat.\"\n",
        "\n"
       ]
      }
     ],
     "prompt_number": 85
    },
    {
     "cell_type": "markdown",
     "metadata": {},
     "source": [
      "\u6a94\u6848\u4e0d\u5927\u7684\u6642\u5019\uff0c\u624d\u53ef\u4ee5\u4e00\u6b21\u8b80\u5165"
     ]
    },
    {
     "cell_type": "code",
     "collapsed": false,
     "input": [
      "kynes_raw_file = open('Kynes.txt')\n",
      "raw_txt = kynes_raw_file.read()\n",
      "raw_txt\n"
     ],
     "language": "python",
     "metadata": {},
     "outputs": [
      {
       "metadata": {},
       "output_type": "pyout",
       "prompt_number": 86,
       "text": [
        "'\"The long run is a misleading guide to current affairs.\\n\\n           In the long run we are all dead. They set themselves\\n\\n                      too easy, too useless a task if in tempestuous seasons\\n\\n                                 they can only tell us when the storm is long past,\\n\\n                                            the ocean will be flat.\"\\n'"
       ]
      }
     ],
     "prompt_number": 86
    },
    {
     "cell_type": "code",
     "collapsed": false,
     "input": [
      "# \u628a\u63db\u884c\u5168\u90e8\u53d6\u4ee3\u6389\n",
      "processed_txt = raw_txt.replace('\\n', '')"
     ],
     "language": "python",
     "metadata": {},
     "outputs": [],
     "prompt_number": 87
    },
    {
     "cell_type": "markdown",
     "metadata": {},
     "source": [
      "\u6211\u5011\u53ef\u4ee5\u7528 Regular Expression \u628a\u300c\u5169\u500b\u4ee5\u4e0a\u7684\u7a7a\u683c\u300d\u9019\u6a23\u7684 pattern \u7d66\u6293\u51fa\u4f86\uff0c\u4e26\u53d6\u4ee3\u6210\u300c\u4e00\u500b\u7a7a\u767d\u300d\n",
      "\n",
      "- `\\s` \u4ee3\u8868\u7a7a\u767d\u5b57\u5143\uff0c\u5b98\u7db2\u8868\u793a\u5176\u7b49\u65bc `[ \\t\\n\\r\\f\\v]`\n",
      "- `{2,100}` \u8868\u793a\u91cd\u8986 2 \u5230 100 \u6b21"
     ]
    },
    {
     "cell_type": "code",
     "collapsed": false,
     "input": [
      "import re  # library for Regular Expression\n",
      "re.sub('\\s{2,100}', '#', processed_txt)"
     ],
     "language": "python",
     "metadata": {},
     "outputs": [
      {
       "metadata": {},
       "output_type": "pyout",
       "prompt_number": 88,
       "text": [
        "'\"The long run is a misleading guide to current affairs.#In the long run we are all dead. They set themselves#too easy, too useless a task if in tempestuous seasons#they can only tell us when the storm is long past,#the ocean will be flat.\"'"
       ]
      }
     ],
     "prompt_number": 88
    },
    {
     "cell_type": "code",
     "collapsed": false,
     "input": [
      "processed_txt = re.sub('\\s{2,100}', ' ', processed_txt)\n",
      "# \u518d\u628a\u982d\u5c3e\u7684 \" \u53bb\u9664\n",
      "processed_txt = processed_txt[1:-1]\n",
      "print(processed_txt)"
     ],
     "language": "python",
     "metadata": {},
     "outputs": [
      {
       "output_type": "stream",
       "stream": "stdout",
       "text": [
        "The long run is a misleading guide to current affairs. In the long run we are all dead. They set themselves too easy, too useless a task if in tempestuous seasons they can only tell us when the storm is long past, the ocean will be flat.\n"
       ]
      }
     ],
     "prompt_number": 89
    },
    {
     "cell_type": "markdown",
     "metadata": {},
     "source": [
      "\u5b58\u6a94\uff0c`open(file_name, 'w')`"
     ]
    },
    {
     "cell_type": "code",
     "collapsed": false,
     "input": [
      "kynes_out_file = open('Kynes_clean.txt', 'w')\n",
      "kynes_out_file.write(processed_txt)\n",
      "kynes_out_file.close()\n",
      "kynes_raw_file.close()  # \u8a18\u5f97\u628a\u539f\u59cb\u6a94\u95dc\u6389"
     ],
     "language": "python",
     "metadata": {},
     "outputs": [],
     "prompt_number": 90
    },
    {
     "cell_type": "markdown",
     "metadata": {},
     "source": [
      "\u70ba\u4e86\u907f\u514d\u5e38\u5e38\u5fd8\u8a18\u95dc\u6a94\uff0c\u6216\u8005\u5728\u904e\u7a0b\u4e2d\u767c\u751f Exception \u800c\u6c92\u6709\u95dc\u6a94\n",
      "\n",
      "\u6703\u4f7f\u7528 `with .... as ...: ` \u7684\u8a9e\u6cd5"
     ]
    },
    {
     "cell_type": "code",
     "collapsed": false,
     "input": [
      "with open('Kynes_clean.txt', 'w') as f:\n",
      "    f.write(processed_txt)"
     ],
     "language": "python",
     "metadata": {},
     "outputs": [],
     "prompt_number": 91
    },
    {
     "cell_type": "code",
     "collapsed": false,
     "input": [
      "!cat Kynes_clean.txt"
     ],
     "language": "python",
     "metadata": {},
     "outputs": [
      {
       "output_type": "stream",
       "stream": "stdout",
       "text": [
        "The long run is a misleading guide to current affairs. In the long run we are all dead. They set themselves too easy, too useless a task if in tempestuous seasons they can only tell us when the storm is long past, the ocean will be flat."
       ]
      }
     ],
     "prompt_number": 92
    },
    {
     "cell_type": "markdown",
     "metadata": {},
     "source": [
      "\u5982\u679c\u662f\u9010\u884c\u8b80\u5165"
     ]
    },
    {
     "cell_type": "code",
     "collapsed": false,
     "input": [
      "# Question: \u70ba\u4f55\u8981\u4e00\u76f4\u91cd\u958b\u6a94\uff1f\n",
      "# Tips: \u8a66\u8457\u628a\u5e95\u4e0b\u9019\u884c\u8a3b\u89e3\u6389\u770b\u770b\u6709\u4ec0\u9ebc\u4e0d\u540c\n",
      "kynes_raw_file = open('Kynes.txt')\n",
      "\n",
      "for line in kynes_raw_file:\n",
      "    print('#-', line, '-#', sep='')"
     ],
     "language": "python",
     "metadata": {},
     "outputs": [
      {
       "output_type": "stream",
       "stream": "stdout",
       "text": [
        "#-\"The long run is a misleading guide to current affairs.\n",
        "-#\n",
        "#-\n",
        "-#\n",
        "#-           In the long run we are all dead. They set themselves\n",
        "-#\n",
        "#-\n",
        "-#\n",
        "#-                      too easy, too useless a task if in tempestuous seasons\n",
        "-#\n",
        "#-\n",
        "-#\n",
        "#-                                 they can only tell us when the storm is long past,\n",
        "-#\n",
        "#-\n",
        "-#\n",
        "#-                                            the ocean will be flat.\"\n",
        "-#\n"
       ]
      }
     ],
     "prompt_number": 93
    },
    {
     "cell_type": "code",
     "collapsed": false,
     "input": [
      "kynes_raw_file = open('Kynes.txt')\n",
      "\n",
      "for line in kynes_raw_file:\n",
      "    # repr(): represenation\uff0c\u8ddf str() \u4e00\u6a23\u662f\u628a\u7269\u4ef6\u300c\u5370\u51fa\u300d\u7684\u6307\u4ee4\n",
      "    print('#-', repr(line), '-#', sep='')"
     ],
     "language": "python",
     "metadata": {},
     "outputs": [
      {
       "output_type": "stream",
       "stream": "stdout",
       "text": [
        "#-'\"The long run is a misleading guide to current affairs.\\n'-#\n",
        "#-'\\n'-#\n",
        "#-'           In the long run we are all dead. They set themselves\\n'-#\n",
        "#-'\\n'-#\n",
        "#-'                      too easy, too useless a task if in tempestuous seasons\\n'-#\n",
        "#-'\\n'-#\n",
        "#-'                                 they can only tell us when the storm is long past,\\n'-#\n",
        "#-'\\n'-#\n",
        "#-'                                            the ocean will be flat.\"\\n'-#\n"
       ]
      }
     ],
     "prompt_number": 94
    },
    {
     "cell_type": "markdown",
     "metadata": {},
     "source": [
      "\u7528 `readlines()` \u628a\u4e00\u884c\u4e00\u884c\u8b80\u5165\u7684\u8cc7\u6599\u8f49\u6210 List \u7269\u4ef6"
     ]
    },
    {
     "cell_type": "code",
     "collapsed": false,
     "input": [
      "raw_lines = open('Kynes.txt').readlines()\n",
      "raw_lines"
     ],
     "language": "python",
     "metadata": {},
     "outputs": [
      {
       "metadata": {},
       "output_type": "pyout",
       "prompt_number": 95,
       "text": [
        "['\"The long run is a misleading guide to current affairs.\\n',\n",
        " '\\n',\n",
        " '           In the long run we are all dead. They set themselves\\n',\n",
        " '\\n',\n",
        " '                      too easy, too useless a task if in tempestuous seasons\\n',\n",
        " '\\n',\n",
        " '                                 they can only tell us when the storm is long past,\\n',\n",
        " '\\n',\n",
        " '                                            the ocean will be flat.\"\\n']"
       ]
      }
     ],
     "prompt_number": 95
    },
    {
     "cell_type": "markdown",
     "metadata": {},
     "source": [
      "\u628a\u53ea\u6709 `\\n` \u7684\u884c\u4e1f\u68c4\uff0c\u4e26\u4e14\u53bb\u9664\u6389\u6bcf\u884c\u524d\u5f8c\u7684\u63db\u884c\u3001\u7a7a\u767d\n",
      "\n",
      "- \u4f7f\u7528 `strip()` (\u4ed6\u6709\u597d\u5144\u5f1f\uff1a`rstrip()`, `lstrip()`\uff09"
     ]
    },
    {
     "cell_type": "code",
     "collapsed": false,
     "input": [
      "clean_lines = []\n",
      "for line in raw_lines:\n",
      "    if line == '\\n':\n",
      "        continue\n",
      "    clean_lines.append(line.strip())\n",
      "clean_lines"
     ],
     "language": "python",
     "metadata": {},
     "outputs": [
      {
       "metadata": {},
       "output_type": "pyout",
       "prompt_number": 96,
       "text": [
        "['\"The long run is a misleading guide to current affairs.',\n",
        " 'In the long run we are all dead. They set themselves',\n",
        " 'too easy, too useless a task if in tempestuous seasons',\n",
        " 'they can only tell us when the storm is long past,',\n",
        " 'the ocean will be flat.\"']"
       ]
      }
     ],
     "prompt_number": 96
    },
    {
     "cell_type": "markdown",
     "metadata": {},
     "source": [
      "\u4e0a\u9762\u9019\u500b\u5f62\u5f0f\u662f\u5426\u4f3c\u66fe\u76f8\u8b58\uff1f\u9019\u500b\u53ef\u4ee5\u5b8c\u5168\u8f49\u63db\u6210 List Comprehension"
     ]
    },
    {
     "cell_type": "code",
     "collapsed": false,
     "input": [
      "[line.strip() for line in raw_lines if line != '\\n']"
     ],
     "language": "python",
     "metadata": {},
     "outputs": [
      {
       "metadata": {},
       "output_type": "pyout",
       "prompt_number": 97,
       "text": [
        "['\"The long run is a misleading guide to current affairs.',\n",
        " 'In the long run we are all dead. They set themselves',\n",
        " 'too easy, too useless a task if in tempestuous seasons',\n",
        " 'they can only tell us when the storm is long past,',\n",
        " 'the ocean will be flat.\"']"
       ]
      }
     ],
     "prompt_number": 97
    },
    {
     "cell_type": "code",
     "collapsed": false,
     "input": [
      "# \u53bb\u982d\u5c3e \"\n",
      "' '.join(clean_lines)[1:-1]"
     ],
     "language": "python",
     "metadata": {},
     "outputs": [
      {
       "metadata": {},
       "output_type": "pyout",
       "prompt_number": 98,
       "text": [
        "'The long run is a misleading guide to current affairs. In the long run we are all dead. They set themselves too easy, too useless a task if in tempestuous seasons they can only tell us when the storm is long past, the ocean will be flat.'"
       ]
      }
     ],
     "prompt_number": 98
    },
    {
     "cell_type": "markdown",
     "metadata": {},
     "source": [
      "\u518d\u4f86\uff0c\u6211\u5011\u767c\u73fe\u4e00\u500b pattern\uff0c\u6709\u7528\u7684\u884c\u6578\u662f\u300c\u9694\u884c\u300d\u51fa\u73fe\u7684\u3002\n",
      "\n",
      "\u5982\u679c\u5927\u5bb6\u6709\u770b\u5b98\u7db2\u6559\u5b78\uff0c\u5728\u8b1b `iter()` \u6709\u8b1b\u5230\u5982\u4f55\u4e00\u6b21\u65bc\u540c\u500b list \u8b80\u591a\u500b\u9805\u76ee\n",
      "\n",
      "\u5b98\u7db2\u7684 `zip()` \u6709\u5beb\u5230\uff0c\u53ef\u4ee5\u4f7f\u7528 `zip(*[iter(s)]*n)`\n",
      "\n",
      "- `s`: A iterable to iterate over\n",
      "- `n`: number of elements per loop"
     ]
    },
    {
     "cell_type": "code",
     "collapsed": true,
     "input": [
      "for line1, line2 in zip(*[iter(raw_lines)]*2):\n",
      "    print(line1.strip())\n",
      "    \n",
      "# NOTE: \u6700\u5f8c\u4e00\u884c\u6c92\u6709\u88ab\u5370\u51fa\n",
      "print('=== Total lines: ', len(raw_lines), '===')   # \u61c9\u8a72\u8981\u591a\u52a0\u4e00\u884c\n",
      "\n",
      "raw_lines.append(' ')   # \u52a0\u4e0a\u4e00\u884c\u96a8\u610f\u7684\u5b57\u4e32\n",
      "for line1, line2 in zip(*[iter(raw_lines)]*2):\n",
      "    print(line1.strip())"
     ],
     "language": "python",
     "metadata": {},
     "outputs": [
      {
       "output_type": "stream",
       "stream": "stdout",
       "text": [
        "\"The long run is a misleading guide to current affairs.\n",
        "In the long run we are all dead. They set themselves\n",
        "too easy, too useless a task if in tempestuous seasons\n",
        "they can only tell us when the storm is long past,\n",
        "=== Total lines:  9 ===\n",
        "\"The long run is a misleading guide to current affairs.\n",
        "In the long run we are all dead. They set themselves\n",
        "too easy, too useless a task if in tempestuous seasons\n",
        "they can only tell us when the storm is long past,\n",
        "the ocean will be flat.\"\n"
       ]
      }
     ],
     "prompt_number": 99
    },
    {
     "cell_type": "markdown",
     "metadata": {},
     "source": [
      "### TRY\n",
      "\u8a66\u8457\u628a\u4e0a\u9762\u7684\u7a0b\u5f0f\u7528 List Comprehension \u6539\u5beb\uff0c\u4e26\u5b8c\u6210\u4efb\u52d9"
     ]
    },
    {
     "cell_type": "markdown",
     "metadata": {},
     "source": [
      "## \u5206\u6790 seq.fa\n",
      "\n",
      "`*.fa` \u70ba FASTA \u6a94\uff0c\u5c07\u4f86\u5927\u5bb6\u5f88\u6709\u6a5f\u6703\u78b0\u5230\uff0c\u4e3b\u8981\u662f\u7531\u4e00\u884c `>ID` \u8207 `atcg...` \u5e8f\u5217\u6240\u7d44\u6210\n",
      "\n",
      "\u9019\u500b\u6709\u5f88\u591a\u7a2e\u505a\u6cd5\uff0c\u6211\u5011\u53ef\u4ee5"
     ]
    },
    {
     "cell_type": "code",
     "collapsed": false,
     "input": [
      "!head seq.fa"
     ],
     "language": "python",
     "metadata": {},
     "outputs": [
      {
       "output_type": "stream",
       "stream": "stdout",
       "text": [
        "> chr7_8791\r\n",
        "guggggggauagaggcauggaauaggugcucugaccucugacccucuagc\r\n",
        "> chr11_13342\r\n",
        "uggcuuccuccacagccaccuccggagggaucuggcugaggaggaagugga\r\n",
        "> chr22_20736\r\n",
        "ugguccaacgacaggaguaggcuuguauuuaaaagcggccccuccucuccuguggccaca\r\n",
        "> chr13_14817\r\n",
        "agaguagccacuagccacaugucaguucaugcuuuuaaggcuauaugugccuaguggcugcuguc\r\n",
        "> chr17_17828\r\n",
        "uuagaggcuggaauagagauucuugaggcuuggaagaguaaggaucccuuuaucuguccucuagg\r\n"
       ]
      }
     ],
     "prompt_number": 100
    },
    {
     "cell_type": "markdown",
     "metadata": {},
     "source": [
      "\u9019\u908a\u4ecb\u7d39\u4e00\u500b\u5f88\u5e38\u7528\u7684\u5de5\u5177 `collections` \u4e2d\u7684 `namedtuple`\uff0c\u4ed6\u53ef\u4ee5\u5e6b\u52a9\u4f60\u5275\u9020\u51fa\u4e00\u7a2e\u7269\u4ef6\uff0c\u6709\u5e7e\u500b\u81ea\u5b9a\u7684\u5c6c\u6027\uff0c\u4e26\u4e14\u662f**\u4e0d\u80fd\u66f4\u52d5**\u7684\u3002\n",
      "\n",
      "\u5b98\u7db2\u7684\u793a\u7bc4\u4f8b\u5b50\uff1a\n",
      "```\n",
      ">>> # Basic example\n",
      ">>> Point = namedtuple('Point', ['x', 'y'])\n",
      ">>> p = Point(11, y=22)     # instantiate with positional or keyword arguments\n",
      ">>> p[0] + p[1]             # indexable like the plain tuple (11, 22)\n",
      "33\n",
      ">>> x, y = p                # unpack like a regular tuple\n",
      ">>> x, y\n",
      "(11, 22)\n",
      ">>> p.x + p.y               # fields also accessible by name\n",
      "33\n",
      ">>> p                       # readable __repr__ with a name=value style\n",
      "Point(x=11, y=22)\n",
      "```\n",
      "\n",
      "\u9019\u500b Class \u53ef\u4ee5\u597d\u597d\u7684\u770b\uff0c\u56e0\u70ba\u5f88\u5e38\u7528\u3002\u5e95\u4e0b\u9084\u6709\u4e00\u4e9b\u63d0\u4f9b\u7684\u597d\u7528 functions\n",
      "\n",
      "```python\n",
      ">>> vars(p)\n",
      "OrderedDict([('x', 11), ('y', 22)])\n",
      ">>> vars(p)['x']            # \u5982\u540c dict \u64cd\u4f5c\n",
      "11\n",
      ">>> p = Point(x=11, y=22)\n",
      ">>> p._replace(x=33)        # \u4e0d\u80fd\u66f4\u52d5\uff0c\u6240\u4ee5\u5982\u679c\u662f\u66f4\u63db\u6578\u503c\u7684\u8a71\uff0c\u4fbf\u8981\u53e6\u5916\u547c\u53eb _replace()\uff0c\u5b83\u5be6\u969b\u4e0a\u662f\u505a\u4e00\u500b\u65b0\u7684 Point() \u51fa\u4f86\n",
      "Point(x=33, y=22)\n",
      "```"
     ]
    },
    {
     "cell_type": "code",
     "collapsed": false,
     "input": [
      "from collections import namedtuple\n",
      "Seq = namedtuple('Seq', ['id', 'seq'])"
     ],
     "language": "python",
     "metadata": {},
     "outputs": [],
     "prompt_number": 104
    },
    {
     "cell_type": "code",
     "collapsed": false,
     "input": [
      "record = Seq('chr1_432', 'ATCGATCG')\n",
      "print(record)\n",
      "print(record.id, record.seq)"
     ],
     "language": "python",
     "metadata": {},
     "outputs": [
      {
       "output_type": "stream",
       "stream": "stdout",
       "text": [
        "Seq(id='chr1_432', seq='ATCGATCG')\n",
        "chr1_432 ATCGATCG\n"
       ]
      }
     ],
     "prompt_number": 107
    },
    {
     "cell_type": "code",
     "collapsed": false,
     "input": [],
     "language": "python",
     "metadata": {},
     "outputs": []
    }
   ],
   "metadata": {}
  }
 ]
}