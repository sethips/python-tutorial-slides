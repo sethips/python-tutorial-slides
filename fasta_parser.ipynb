{
 "metadata": {
  "name": ""
 },
 "nbformat": 3,
 "nbformat_minor": 0,
 "worksheets": [
  {
   "cells": [
    {
     "cell_type": "code",
     "collapsed": false,
     "input": [
      "PATH_TO_BIG_FASTA = '/Users/liang/hg19_3UTR_UCSC_GB.kinomoto.fasta'\n",
      "PATH_TO_NORMAL_FASTA = 'demo_code/seq.fa'\n"
     ],
     "language": "python",
     "metadata": {},
     "outputs": []
    },
    {
     "cell_type": "code",
     "collapsed": false,
     "input": [
      "def gen_fasta_records(path, multiline=False):\n",
      "    if multiline:\n",
      "    # \u5982\u679c\u4e00\u500b\u3000record \u53ef\u4ee5\u5360\u7528\u5169\u884c\u4ee5\u4e0a\n",
      "    # Ex. >seq_description\n",
      "    #     ATCGATCGATCG...\n",
      "    #     ATCGATCGATCG...\n",
      "    #     >seq_description\n",
      "    #     ATCG...\n",
      "        with open(path) as fasta_f:\n",
      "            seq_id =  None\n",
      "            for line in fasta_f:\n",
      "                if line.startswith('>'):\n",
      "                    if seq_id is not None:\n",
      "                        yield Seq(seq_id, seq_part)\n",
      "                    \n",
      "                    seq_id = line[1:].rstrip()\n",
      "                    seq_part = ''\n",
      "                else:\n",
      "                    seq_part = seq_part + line.rstrip()\n",
      "    else:\n",
      "        with open(path) as fasta_f:\n",
      "            for line_id, line_seq in zip(*[iter(fasta_f)]*2):\n",
      "                yield Seq(\n",
      "                    line_id[1:].rstrip(),\n",
      "                    line_seq.rstrip())"
     ],
     "language": "python",
     "metadata": {},
     "outputs": []
    },
    {
     "cell_type": "code",
     "collapsed": false,
     "input": [
      "from collections import Counter, namedtuple"
     ],
     "language": "python",
     "metadata": {},
     "outputs": []
    },
    {
     "cell_type": "code",
     "collapsed": false,
     "input": [
      "# Create a sequence object\n",
      "Seq = namedtuple('Seq', ['id', 'seq'])"
     ],
     "language": "python",
     "metadata": {},
     "outputs": []
    },
    {
     "cell_type": "code",
     "collapsed": false,
     "input": [
      "norm_list = [seq for seq in gen_fasta_records(PATH_TO_NORMAL_FASTA)]\n",
      "multi_list = [seq for seq in gen_fasta_records(PATH_TO_NORMAL_FASTA, multiline=True)]\n",
      "all(seq1 == seq2 for seq1, seq2 in zip(norm_list, multi_list))"
     ],
     "language": "python",
     "metadata": {},
     "outputs": []
    },
    {
     "cell_type": "code",
     "collapsed": false,
     "input": [
      "%timeit norm_list = [seq for seq in gen_fasta_records(PATH_TO_NORMAL_FASTA)]\n",
      "%timeit multi_list = [seq for seq in gen_fasta_records(PATH_TO_NORMAL_FASTA, multiline=True)]"
     ],
     "language": "python",
     "metadata": {},
     "outputs": []
    },
    {
     "cell_type": "code",
     "collapsed": false,
     "input": [
      "from Bio import SeqIO"
     ],
     "language": "python",
     "metadata": {},
     "outputs": []
    },
    {
     "cell_type": "code",
     "collapsed": false,
     "input": [
      "TEST_MULTILINE_FASTA = '/Users/liang/test_multiline.fasta'"
     ],
     "language": "python",
     "metadata": {},
     "outputs": []
    },
    {
     "cell_type": "code",
     "collapsed": false,
     "input": [
      "multi_list = [seq for seq in gen_fasta_records(TEST_MULTILINE_FASTA, multiline=True)]\n",
      "\n",
      "seq_generator = SeqIO.parse(TEST_MULTILINE_FASTA, \"fasta\")\n",
      "biopy_seq_list = [Seq(seq.description, str(seq.seq)) for seq in seq_generator]\n",
      "\n",
      "all(seq1 == seq2 for seq1, seq2 in zip(multi_list, biopy_seq_list))"
     ],
     "language": "python",
     "metadata": {},
     "outputs": []
    },
    {
     "cell_type": "code",
     "collapsed": false,
     "input": [
      "%timeit -n 10 multi_list = [seq for seq in gen_fasta_records(PATH_TO_BIG_FASTA, multiline=True)]\n",
      "%timeit -n 10 biopy_seq_list = [Seq(seq.description, str(seq.seq)) for seq in SeqIO.parse(PATH_TO_BIG_FASTA, \"fasta\")]"
     ],
     "language": "python",
     "metadata": {},
     "outputs": []
    },
    {
     "cell_type": "code",
     "collapsed": false,
     "input": [
      "NORM_LARGE_FA = '/Users/liang/large.fa'\n",
      "with open(NORM_LARGE_FA, 'w') as fasta_f:\n",
      "    for seq in multi_list:\n",
      "        fasta_f.write('>%s\\n%s\\n' % (seq.id, seq.seq))"
     ],
     "language": "python",
     "metadata": {},
     "outputs": []
    },
    {
     "cell_type": "code",
     "collapsed": false,
     "input": [
      "!head -n 4 $NORM_LARGE_FA"
     ],
     "language": "python",
     "metadata": {},
     "outputs": []
    },
    {
     "cell_type": "code",
     "collapsed": false,
     "input": [
      "%timeit -n 5 norm_list = [seq for seq in gen_fasta_records(NORM_LARGE_FASTA)]\n",
      "%timeit -n 5 multi_list = [seq for seq in gen_fasta_records(NORM_LARGE_FASTA, multiline=True)]\n",
      "%timeit -n 5 biopy_seq_list = [Seq(seq.description, str(seq.seq)) for seq in SeqIO.parse(NORM_LARGE_FASTA, \"fasta\")]"
     ],
     "language": "python",
     "metadata": {},
     "outputs": []
    },
    {
     "cell_type": "code",
     "collapsed": false,
     "input": [
      "class Seq:\n",
      "    def __init__(self, id, seq):\n",
      "        self.id = id\n",
      "        self.seq = seq\n",
      "    def __eq__(self, other):\n",
      "        return self.id == other.id and self.seq == other.seq"
     ],
     "language": "python",
     "metadata": {},
     "outputs": []
    },
    {
     "cell_type": "code",
     "collapsed": false,
     "input": [
      "%timeit [seq for seq in gen_fasta_records(NORM_LARGE_FA)]\n",
      "%timeit [seq for seq in gen_fasta_records(NORM_LARGE_FA, multiline=True)]\n",
      "\n",
      "%timeit -n 5 norm_list = [seq for seq in gen_fasta_records(NORM_LARGE_FA)]\n",
      "%timeit -n 5 multi_list = [seq for seq in gen_fasta_records(NORM_LARGE_FA, multiline=True)]\n",
      "%timeit -n 5 biopy_seq_list = [Seq(seq.description, str(seq.seq)) for seq in SeqIO.parse(NORM_LARGE_FA, \"fasta\")]\n",
      "\n",
      "%timeit multi_list = [seq for seq in gen_fasta_records(PATH_TO_BIG_FASTA, multiline=True)]\n",
      "%timeit biopy_seq_list = [Seq(seq.description, str(seq.seq)) for seq in SeqIO.parse(PATH_TO_BIG_FASTA, \"fasta\")]"
     ],
     "language": "python",
     "metadata": {},
     "outputs": []
    },
    {
     "cell_type": "code",
     "collapsed": false,
     "input": [],
     "language": "python",
     "metadata": {},
     "outputs": []
    }
   ],
   "metadata": {}
  }
 ]
}