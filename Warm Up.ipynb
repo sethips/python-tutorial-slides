{
 "metadata": {
  "name": ""
 },
 "nbformat": 3,
 "nbformat_minor": 0,
 "worksheets": [
  {
   "cells": [
    {
     "cell_type": "heading",
     "level": 1,
     "metadata": {},
     "source": [
      "Basic Data Structure (Immutable)"
     ]
    },
    {
     "cell_type": "markdown",
     "metadata": {},
     "source": [
      "## Boolean"
     ]
    },
    {
     "cell_type": "code",
     "collapsed": false,
     "input": [
      "x = True\n",
      "print('Type of x', type(x))\n",
      "print(x == False)"
     ],
     "language": "python",
     "metadata": {},
     "outputs": []
    },
    {
     "cell_type": "markdown",
     "metadata": {},
     "source": [
      "## String"
     ]
    },
    {
     "cell_type": "code",
     "collapsed": false,
     "input": [
      "x = \"I am unicode\"       # both ' ', \" \" denote string\n",
      "y = \"'aa'\\t\"                 # ' is fine inside \", and reversely true.\n",
      "\n",
      "# multiline string is enclosed by triple \" or '\n",
      "# NOTE: all spaces between \"\"\" will be preserved\n",
      "z = \"\"\" Eeee  \n",
      "eeee\n",
      "eeE\"\"\"\n",
      "print(z)\n",
      "# blackslash denotes continue of a command\n",
      "z = \"\"\"\\\n",
      "Eee\n",
      "eeee\n",
      "eeE\"\"\"\n",
      "print(z)"
     ],
     "language": "python",
     "metadata": {},
     "outputs": []
    },
    {
     "cell_type": "code",
     "collapsed": false,
     "input": [
      "x == 'I am unicode'      # string value comparison"
     ],
     "language": "python",
     "metadata": {},
     "outputs": []
    },
    {
     "cell_type": "code",
     "collapsed": false,
     "input": [
      "'ab' < 'abc'    # strings can be compared, based on dictionary order"
     ],
     "language": "python",
     "metadata": {},
     "outputs": []
    },
    {
     "cell_type": "code",
     "collapsed": false,
     "input": [
      "'a' + \"ccc\", 'a'*8       #  \u52a0\uff1a\u9023\u63a5\uff1b\u4e58\uff1a\u91cd\u8986"
     ],
     "language": "python",
     "metadata": {},
     "outputs": []
    },
    {
     "cell_type": "markdown",
     "metadata": {},
     "source": [
      "## Numbers"
     ]
    },
    {
     "cell_type": "code",
     "collapsed": false,
     "input": [
      "8 / 4, 3 / 4, 5.0 / 2.0   # different behavior of int division in 2.x"
     ],
     "language": "python",
     "metadata": {},
     "outputs": []
    },
    {
     "cell_type": "code",
     "collapsed": false,
     "input": [
      "5 // 2, 6.0 // 2.4        # \u627e\u6574\u6578\u9664\u6cd5\u7684\u300c\u5546\u300d"
     ],
     "language": "python",
     "metadata": {},
     "outputs": []
    },
    {
     "cell_type": "code",
     "collapsed": false,
     "input": [
      "5 % 2, 6 % 3              # \u627e\u6574\u6578\u9664\u6cd5\u7684\u300c\u9918\u6578\u300d (mod)"
     ],
     "language": "python",
     "metadata": {},
     "outputs": []
    },
    {
     "cell_type": "code",
     "collapsed": false,
     "input": [
      "4 ** 3                    # \u6307\u6578 (= 4^3)"
     ],
     "language": "python",
     "metadata": {},
     "outputs": []
    },
    {
     "cell_type": "code",
     "collapsed": false,
     "input": [
      "f = 1 + 2.0               # \u5224\u65b7\u662f\u5426\u70ba\u6574\u6578\n",
      "g = 1 + 2.5\n",
      "print(type(f), type(g))\n",
      "f.is_integer(), g.is_integer()"
     ],
     "language": "python",
     "metadata": {},
     "outputs": []
    },
    {
     "cell_type": "code",
     "collapsed": false,
     "input": [
      "int(f), int(g)             # float to int"
     ],
     "language": "python",
     "metadata": {},
     "outputs": []
    },
    {
     "cell_type": "code",
     "collapsed": false,
     "input": [
      "str(f), str(g)             # number to string"
     ],
     "language": "python",
     "metadata": {},
     "outputs": []
    },
    {
     "cell_type": "markdown",
     "metadata": {},
     "source": [
      "Python \u662f\u5f37\u578b\u5225\uff0c\u8a72\u8b8a\u5b57\u4e32\uff0c\u8a72\u8b8a\u6210\u6578\u503c\u90fd\u8981\u660e\u78ba\u7684\u7528\u51fd\u6578\u8f49\u63db\n",
      "\n",
      "```python\n",
      ">>> f = 2.5\n",
      ">>> 'Number is ' + f\n",
      "Traceback (most recent call last):\n",
      "  File \"<stdin>\", line 1, in <module>\n",
      "TypeError: Can't convert 'float' object to str implicitly\n",
      "```\n"
     ]
    },
    {
     "cell_type": "code",
     "collapsed": false,
     "input": [
      "'Integer is ' + str(int(f))"
     ],
     "language": "python",
     "metadata": {},
     "outputs": []
    },
    {
     "cell_type": "code",
     "collapsed": false,
     "input": [
      "import math\n",
      "PI = math.pi\n",
      "PI, round(PI, 4)"
     ],
     "language": "python",
     "metadata": {},
     "outputs": []
    },
    {
     "cell_type": "markdown",
     "metadata": {},
     "source": [
      "\u66f4\u591a\u6578\u503c\u7684\u64cd\u4f5c\u53ef\u4ee5\u4f7f\u7528 `math` \u9019\u500b standard library\u3002"
     ]
    },
    {
     "cell_type": "code",
     "collapsed": false,
     "input": [
      "math.ceil(PI), math.floor(PI)"
     ],
     "language": "python",
     "metadata": {},
     "outputs": []
    },
    {
     "cell_type": "code",
     "collapsed": false,
     "input": [
      "# Some exceptions can be thrown during calculation\n",
      "1 / 0"
     ],
     "language": "python",
     "metadata": {},
     "outputs": []
    },
    {
     "cell_type": "markdown",
     "metadata": {},
     "source": [
      "## Tuple\n",
      "\u8ddf List \u5f88\u50cf\uff0c\u4f46\u4e00\u5efa\u7acb\u4fbf\u4e0d\u80fd\u66f4\u52d5\u503c"
     ]
    },
    {
     "cell_type": "code",
     "collapsed": false,
     "input": [
      "a_tuple = 1, 2, \"a\"     # \u7528\u9017\u865f\u5206\u9694\u7684\u5c31\u662f\u4e00\u500b tuple\n",
      "type(a_tuple), a_tuple"
     ],
     "language": "python",
     "metadata": {},
     "outputs": []
    },
    {
     "cell_type": "code",
     "collapsed": false,
     "input": [
      "a_tuple[1:]             # support indexing"
     ],
     "language": "python",
     "metadata": {},
     "outputs": []
    },
    {
     "cell_type": "code",
     "collapsed": false,
     "input": [
      "a_tuple[1] = 2          # but not modifiable"
     ],
     "language": "python",
     "metadata": {},
     "outputs": []
    },
    {
     "cell_type": "heading",
     "level": 1,
     "metadata": {},
     "source": [
      "Basic Data Structure (Mutable)"
     ]
    },
    {
     "cell_type": "heading",
     "level": 2,
     "metadata": {},
     "source": [
      "List"
     ]
    },
    {
     "cell_type": "code",
     "collapsed": false,
     "input": [
      "# \u53ef\u4ee5\u540c\u6642\u5305\u542b\u4e0d\u540c class \u7684\u7269\u4ef6\n",
      "my_list = [1, 3, 'a', True, [12, 10, 33, (1, 2)]]\n",
      "\n",
      "# \u7528 for loop \u905e\u8ff4(\u7b2c\u4e00\u5c64) \u6240\u6709\u7684\u5143\u7d20\n",
      "for elem in my_list:\n",
      "    print(elem)"
     ],
     "language": "python",
     "metadata": {},
     "outputs": []
    },
    {
     "cell_type": "code",
     "collapsed": false,
     "input": [
      "len(my_list)                # list \u7684\u9577\u5ea6"
     ],
     "language": "python",
     "metadata": {},
     "outputs": []
    },
    {
     "cell_type": "code",
     "collapsed": false,
     "input": [
      "# indexing\n",
      "print(my_list[0])\n",
      "print(my_list[-1])\n",
      "my_list[1:3]                # \u542b\u982d\u4e0d\u542b\u5c3e"
     ],
     "language": "python",
     "metadata": {},
     "outputs": []
    },
    {
     "cell_type": "code",
     "collapsed": false,
     "input": [
      "a_list = [1, 2, 5, 6]\n",
      "a_list.insert(0, 'haha')    # insert one element at the front\n",
      "a_list.append(\"an item\")    # append one element at the end\n",
      "a_list.extend([1, 2, 3])    # extend list itself, input can be \n",
      "                            # another list or an iterable\n",
      "a_list.extend(\"str\")        # treat strinag as an iterable\n",
      "a_list"
     ],
     "language": "python",
     "metadata": {},
     "outputs": []
    },
    {
     "cell_type": "code",
     "collapsed": false,
     "input": [
      "4 in a_list, 2 in a_list"
     ],
     "language": "python",
     "metadata": {},
     "outputs": []
    },
    {
     "cell_type": "code",
     "collapsed": false,
     "input": [
      "b_list = a_list\n",
      "a_list.pop()                # reomves an element from list\n",
      "                            # and return that element\n",
      "                            # default index is the last item\n",
      "b_list                      # Name reference, so affects b_list as well"
     ],
     "language": "python",
     "metadata": {},
     "outputs": []
    },
    {
     "cell_type": "code",
     "collapsed": false,
     "input": [
      "new_list = a_list[:]        # copy a list with immutable classes only\n",
      "elem = a_list.pop(0)\n",
      "print('a_list:', a_list)\n",
      "print('new_list:', new_list)"
     ],
     "language": "python",
     "metadata": {},
     "outputs": []
    },
    {
     "cell_type": "markdown",
     "metadata": {},
     "source": [
      "## Set\n",
      "\n",
      "\u9019\u908a\u5148\u5927\u7565\u63d0\u4e00\u4e0b"
     ]
    },
    {
     "cell_type": "code",
     "collapsed": false,
     "input": [
      "a_set = set()                # empty set, {} = empty dict\n",
      "type({}), type(a_set)"
     ],
     "language": "python",
     "metadata": {},
     "outputs": []
    },
    {
     "cell_type": "code",
     "collapsed": false,
     "input": [
      "# convert a list into a set (can be an iterable also)\n",
      "a_set = set([1, 2, 2, 4, 'b'])\n",
      "b_set = set(range(10))\n",
      "a_set, b_set"
     ],
     "language": "python",
     "metadata": {},
     "outputs": []
    },
    {
     "cell_type": "code",
     "collapsed": false,
     "input": [
      "1 in a_set, -1 in b_set"
     ],
     "language": "python",
     "metadata": {},
     "outputs": []
    },
    {
     "cell_type": "code",
     "collapsed": false,
     "input": [
      "a_set.add(6)                 # add new element once\n",
      "b_set.update([-1, 0, 100])   # add mutliple elements together"
     ],
     "language": "python",
     "metadata": {},
     "outputs": []
    },
    {
     "cell_type": "code",
     "collapsed": false,
     "input": [
      "a_set.discard(6)             # delete an element from a set\n",
      "len(a_set)"
     ],
     "language": "python",
     "metadata": {},
     "outputs": []
    },
    {
     "cell_type": "code",
     "collapsed": false,
     "input": [
      "a_set.union(b_set)"
     ],
     "language": "python",
     "metadata": {},
     "outputs": []
    },
    {
     "cell_type": "code",
     "collapsed": false,
     "input": [
      "a_set.difference(b_set), b_set.difference(a_set)"
     ],
     "language": "python",
     "metadata": {},
     "outputs": []
    },
    {
     "cell_type": "markdown",
     "metadata": {},
     "source": [
      "## Dictionary"
     ]
    },
    {
     "cell_type": "code",
     "collapsed": false,
     "input": [
      "a_dict = { '1': 2523, '2': 14.3, 2: \"156\"}\n",
      "b_dict = { 1: 'a',          # new lines are accepted in braces.\n",
      "           2: 'b'}          # such as (), [], {}"
     ],
     "language": "python",
     "metadata": {},
     "outputs": []
    },
    {
     "cell_type": "code",
     "collapsed": false,
     "input": [
      "a_dict['1'], b_dict[1]      # \u7d66 Key (\u578b\u5225\u8981\u6b63\u78ba\uff09\u56de\u50b3 value"
     ],
     "language": "python",
     "metadata": {},
     "outputs": []
    },
    {
     "cell_type": "code",
     "collapsed": false,
     "input": [
      "a_dict[3] = 5               # create non-existent key automatically"
     ],
     "language": "python",
     "metadata": {},
     "outputs": []
    },
    {
     "cell_type": "code",
     "collapsed": false,
     "input": [
      "# prevent accidentally adding an extra key\n",
      "if 2 in a_dict:\n",
      "    a_dict[2] = 4"
     ],
     "language": "python",
     "metadata": {},
     "outputs": []
    },
    {
     "cell_type": "code",
     "collapsed": false,
     "input": [
      "a_dict.keys()           # get all existed keys in a dict"
     ],
     "language": "python",
     "metadata": {},
     "outputs": []
    },
    {
     "cell_type": "code",
     "collapsed": false,
     "input": [
      "a_dict.items()          # get all (key, value) tuples in a dict"
     ],
     "language": "python",
     "metadata": {},
     "outputs": []
    },
    {
     "cell_type": "code",
     "collapsed": false,
     "input": [
      "# loop key-value pair in a dict\n",
      "for k, v in a_dict.items():\n",
      "    print('key:', k, end='\\t')\n",
      "    print('value:', v)"
     ],
     "language": "python",
     "metadata": {},
     "outputs": []
    },
    {
     "cell_type": "code",
     "collapsed": false,
     "input": [
      "# nested data structure\n",
      "a_dict['list'] = [1, 3, 6, 8]\n",
      "a_dict['a dict'] = {1: '1', 'key': 0}   # can be accepted \n",
      "print(a_dict['list'][-1], a_dict['a dict']['key'])\n",
      "a_dict"
     ],
     "language": "python",
     "metadata": {},
     "outputs": []
    },
    {
     "cell_type": "heading",
     "level": 1,
     "metadata": {},
     "source": [
      "Special Constant `None`"
     ]
    },
    {
     "cell_type": "markdown",
     "metadata": {},
     "source": [
      "Something like `null` in other languages."
     ]
    },
    {
     "cell_type": "code",
     "collapsed": false,
     "input": [
      "type(None)                  # NoneType object"
     ],
     "language": "python",
     "metadata": {},
     "outputs": []
    },
    {
     "cell_type": "code",
     "collapsed": false,
     "input": [
      "[] == None, {} == None      # only variables whose value is None"
     ],
     "language": "python",
     "metadata": {},
     "outputs": []
    },
    {
     "cell_type": "code",
     "collapsed": false,
     "input": [
      "None == None, None is None  # are equal to each other"
     ],
     "language": "python",
     "metadata": {},
     "outputs": []
    },
    {
     "cell_type": "code",
     "collapsed": false,
     "input": [
      "x = None\n",
      "x == None, x is None"
     ],
     "language": "python",
     "metadata": {},
     "outputs": []
    },
    {
     "cell_type": "heading",
     "level": 1,
     "metadata": {},
     "source": [
      "Truth Value Testing (Conditions)"
     ]
    },
    {
     "cell_type": "markdown",
     "metadata": {},
     "source": [
      "## \u904b\u7b97\u7b26\n",
      "\n",
      "- **Any** object can be tested for truth value\n",
      "- Used in conditions and the Boolean operations\n",
      "- \u7528\u62ec\u865f\u4f86\u8abf\u6574\u904b\u7b97\u6b21\u5e8f\n",
      "\n",
      "```\n",
      ">, < , >=, <=   # \u4e00\u822c\u5927\u5c0f\u503c\u7684\u6bd4\u8f03\n",
      "==              # \u503c\u7684\u6bd4\u8f03\n",
      "is              # \u6bd4\u8f03\u662f\u5426\u540c\u70ba\u4e00\u500b object\n",
      "and or not      # \u50cf\u5176\u4ed6\u8a9e\u8a00\u7684 &&, ||, !\n",
      "```"
     ]
    },
    {
     "cell_type": "markdown",
     "metadata": {},
     "source": [
      "## The following values are treated `False`\n",
      "\n",
      "- `None`, `False`\n",
      "- zero in number datatypes: `int`, `float`, `complex`, ...\n",
      "- zero length of data structure: `list`, `dict`, `tuple`, `string`, `set`, ..."
     ]
    },
    {
     "cell_type": "code",
     "collapsed": false,
     "input": [
      "for bool_value in [None, False,          # trivial\n",
      "                   0, 0.0, 0j, '',       # zero\n",
      "                   (), [], {}]:          # zero length (empty)\n",
      "    if not bool_value:\n",
      "        print(repr(bool_value), 'is false')\n",
      " "
     ],
     "language": "python",
     "metadata": {},
     "outputs": []
    },
    {
     "cell_type": "heading",
     "level": 1,
     "metadata": {},
     "source": [
      "Control Flow Tools"
     ]
    },
    {
     "cell_type": "markdown",
     "metadata": {},
     "source": [
      "\u5e95\u4e0b\u9019\u4e9b\u8981\u5168\u90e8\u77e5\u9053\n",
      "\n",
      "## if\n",
      "```\n",
      "if cond:\n",
      "    pass\n",
      "elif another_cond:\n",
      "    pass\n",
      "else:\n",
      "    pass\n",
      "```\n",
      "\n",
      "## for\n",
      "```\n",
      "for elem in a_iterable:\n",
      "    if cond1:\n",
      "        continue\n",
      "    if cond2:\n",
      "        break\n",
      "    do_something()\n",
      "```\n",
      "\n",
      "## while\n",
      "\n",
      "```python\n",
      "while cond:\n",
      "    pass\n",
      "```\n",
      "\n",
      "## try\n",
      "```\n",
      "try:\n",
      "    1 / 0              # an exception will be thrown\n",
      "except ZeroDivisionError as e:\n",
      "    print(e)\n",
      "except Exception as e:\n",
      "    raise\n",
      "finally:\n",
      "    pass                # no matter what happens, code always run to here\n",
      "```\n",
      "\n",
      "\n",
      "## with\n",
      "```\n",
      "with open('file') as f:\n",
      "    do_sth_with_f()\n",
      "````\n",
      "\n",
      " "
     ]
    },
    {
     "cell_type": "code",
     "collapsed": false,
     "input": [
      "try:\n",
      "    1 / 0              # an exception will be thrown\n",
      "except ZeroDivisionError as e:\n",
      "    print(e)\n",
      "except Exception as e:\n",
      "    raise\n",
      "finally:\n",
      "    pass                # no matter what happens, code always run to here"
     ],
     "language": "python",
     "metadata": {},
     "outputs": []
    },
    {
     "cell_type": "heading",
     "level": 1,
     "metadata": {},
     "source": [
      "File Object"
     ]
    },
    {
     "cell_type": "code",
     "collapsed": false,
     "input": [
      "f = open('demo_code/Kynes.txt')   # \u958b\u6a94\n",
      "print(repr(f.read()))    # \u628a\u6574\u500b\u6a94\u6848\u8b80\u5b8c\n",
      "f.close()                # \u597d\u7fd2\u6163\uff0c\u8a18\u5f97\u95dc\u6a94\uff08\u96d6\u7136 Python \u6703\u81ea\u52d5\u5e6b\u5fd9\u95dc\uff09"
     ],
     "language": "python",
     "metadata": {},
     "outputs": []
    },
    {
     "cell_type": "code",
     "collapsed": false,
     "input": [
      "f = open('demo_code/Kynes.txt')\n",
      "for line in f:\n",
      "    print(repr(line))"
     ],
     "language": "python",
     "metadata": {},
     "outputs": []
    },
    {
     "cell_type": "code",
     "collapsed": false,
     "input": [
      "with open('demo_code/Kynes.txt') as f:\n",
      "    line_list = f.readlines()  # \u4e00\u884c\u70ba list \u4e2d\u4e00\u500b element\uff0c\u81ea\u52d5\u53bb '\\n'\n",
      "    print(line_list)"
     ],
     "language": "python",
     "metadata": {},
     "outputs": []
    },
    {
     "cell_type": "heading",
     "level": 1,
     "metadata": {},
     "source": [
      "Function"
     ]
    },
    {
     "cell_type": "markdown",
     "metadata": {},
     "source": [
      "## Pass by Name (Reference)\n"
     ]
    },
    {
     "cell_type": "markdown",
     "metadata": {},
     "source": [
      "\u9996\u5148\u5404\u4f4d\u8981\u4e86\u89e3 Python \u5728\u8655\u7406 mutable, custom class object \u6642\uff0c\u6240\u8b02\u7684 Pass by Name \u6a5f\u5236\u3002\n",
      "\n",
      "```python\n",
      "a = [1, 2, 4]\n",
      "b = a\n",
      "\n",
      "# modify a's value, which affects b as well\n",
      "# since they refer to the same list object\n",
      "a[0] = 9\n",
      "```"
     ]
    },
    {
     "cell_type": "code",
     "collapsed": false,
     "input": [
      "iframe_src = (\n",
      "    \"http://pythontutor.com/iframe-embed.html\"\n",
      "    \"#code=a+%3D+%5B1,+2,+4%5D%0Ab+%3D+a%0A%0Aa%5B0%5D+%3D+9\"\n",
      "    \"&cumulative=false&heapPrimitives=false&drawParentPointers=false\"\n",
      "    \"&textReferences=false&showOnlyOutputs=false&py=3&curInstr=0\"\n",
      ")\n",
      "from IPython.lib.display import IFrame\n",
      "IFrame(iframe_src, \"800\", \"300\")"
     ],
     "language": "python",
     "metadata": {},
     "outputs": []
    },
    {
     "cell_type": "markdown",
     "metadata": {},
     "source": [
      "\u518d\u4f86\u6211\u5011\u4f86\u770b function \u6642\u5019\u7684\u53c3\u6578\u50b3\u905e\u7684\u8868\u73fe\uff1a\n",
      "\n",
      "```\n",
      "def my_fun(arg_immut, arg_mut):\n",
      "    # \u8a66\u8457\u66f4\u6539\u50b3\u5165\u7684\u53c3\u6578\u503c\n",
      "    arg_immut = 0\n",
      "    arg_mut.append('in fun')\n",
      "\n",
      "a = 10          # int, immutable\n",
      "b = [1, 2]      # list, mutable\n",
      "my_fun(a, b)\n",
      "print(a, b)\n",
      "```"
     ]
    },
    {
     "cell_type": "code",
     "collapsed": false,
     "input": [
      "iframe_src = (\n",
      "    \"http://pythontutor.com/iframe-embed.html\"\n",
      "    \"#code=def+my_fun(arg_immut,+arg_mut)%3A%0A++++arg_immut+%3D+0%0A++++arg_mut.append('in+fun')%0A%0A\"\n",
      "    \"a+%3D+10%0Ab+%3D+%5B1,+2%5D%0Amy_fun(a,+b)%0Aprint(a,+b)\"\n",
      "    \"&cumulative=false&heapPrimitives=false&drawParentPointers=false&textReferences=false&showOnlyOutputs=false&py=3&curInstr=0\"\n",
      ")\n",
      "IFrame(iframe_src, \"900\", \"500\")"
     ],
     "language": "python",
     "metadata": {},
     "outputs": []
    },
    {
     "cell_type": "markdown",
     "metadata": {},
     "source": [
      "## \u6b63\u78ba\u5730\u7d66 function \u9810\u8a2d\u53c3\u6578 (default argument)\n",
      "\n",
      "\u5047\u8a2d\u6709\u4e00\u500b\u51fd\u6578\uff0c\u7576\u4f7f\u7528\u8005\u6c92\u6709\u63d0\u4f9b b \u4e00\u500b list \u7684\u8a71\uff0c\u6211\u5011\u5c31\u8981\u81ea\u5df1\u5efa\u7acb\u4e00\u500b\u7a7a\u7684\u3002\n",
      "\n",
      "\u4f46\u9019\u6a23\u5beb\u6703\u6709\u554f\u984c\u7684\u3002\n",
      "\n",
      "```\n",
      "def f(a, b=[]):\n",
      "    b.append(a)\n",
      "    return b\n",
      "```\n",
      "\n",
      "\u6bd4\u8f03\u597d\u7684\u5beb\u6cd5\u662f\u9019\u6a23\uff1a\n",
      "\n",
      "```\n",
      "def f(a, b=None):\n",
      "    if b is None:      # so b is the default value\n",
      "        return [a]     # create a new list and return\n",
      "    b.append(a)\n",
      "    return b\n",
      "```\n",
      "\n",
      "### \u7d50\u8ad6\n",
      "\n",
      "\u7d66\u9810\u8a2d\u503c\u6642\uff0c\u9664\u975e\u662f immutable\uff0c\u4e0d\u7136\u90fd\u4ee5 None \u4f86\u5224\u65b7\u3002"
     ]
    },
    {
     "cell_type": "code",
     "collapsed": false,
     "input": [
      "def f(a, b=[]):\n",
      "    b.append(a)\n",
      "    return b"
     ],
     "language": "python",
     "metadata": {},
     "outputs": []
    },
    {
     "cell_type": "code",
     "collapsed": false,
     "input": [
      "f(1)"
     ],
     "language": "python",
     "metadata": {},
     "outputs": []
    },
    {
     "cell_type": "code",
     "collapsed": false,
     "input": [
      "f(1)    # Oops!, we expected [1]"
     ],
     "language": "python",
     "metadata": {},
     "outputs": []
    },
    {
     "cell_type": "code",
     "collapsed": false,
     "input": [
      "def f(a, b=None):\n",
      "    if b is None:\n",
      "        return [a]\n",
      "    b.append(a)\n",
      "    return b"
     ],
     "language": "python",
     "metadata": {},
     "outputs": []
    },
    {
     "cell_type": "code",
     "collapsed": false,
     "input": [
      "f(1)"
     ],
     "language": "python",
     "metadata": {},
     "outputs": []
    },
    {
     "cell_type": "code",
     "collapsed": false,
     "input": [
      "f(1)"
     ],
     "language": "python",
     "metadata": {},
     "outputs": []
    },
    {
     "cell_type": "heading",
     "level": 2,
     "metadata": {},
     "source": [
      "Lambda Function"
     ]
    },
    {
     "cell_type": "code",
     "collapsed": false,
     "input": [
      "add_two = lambda x: x+2      # create a lambda function\n",
      "\n",
      "add_two(0), add_two(1)"
     ],
     "language": "python",
     "metadata": {},
     "outputs": []
    },
    {
     "cell_type": "markdown",
     "metadata": {},
     "source": [
      "\u7b49\u50f9\u65bc\n",
      "\n",
      "```\n",
      "def add_two(x):\n",
      "    return x+2\n",
      "```"
     ]
    },
    {
     "cell_type": "code",
     "collapsed": false,
     "input": [
      "from math import log\n",
      "log_x_y = lambda x, y: log(y) / log(x)"
     ],
     "language": "python",
     "metadata": {},
     "outputs": []
    },
    {
     "cell_type": "code",
     "collapsed": false,
     "input": [
      "log_x_y(4, 64)"
     ],
     "language": "python",
     "metadata": {},
     "outputs": []
    },
    {
     "cell_type": "markdown",
     "metadata": {},
     "source": [
      "\u9019\u500b\u6709\u4ec0\u9ebc\u7528\uff1f"
     ]
    },
    {
     "cell_type": "code",
     "collapsed": false,
     "input": [
      "# a list of string\n",
      "l = ['1', '11', '21', '2', '13', '103']\n",
      "sorted(l)"
     ],
     "language": "python",
     "metadata": {},
     "outputs": []
    },
    {
     "cell_type": "code",
     "collapsed": false,
     "input": [
      "# but we want to sort it based on their numerical magnitude\n",
      "# e.g., expect 1 < 2 < 11 < 13 < ...\n",
      "\n",
      "sorted(l, key=lambda x: int(x))    # sort based on the value returned by int(), but itself remain string type"
     ],
     "language": "python",
     "metadata": {},
     "outputs": []
    },
    {
     "cell_type": "code",
     "collapsed": false,
     "input": [
      "def to_int(x):\n",
      "    return int(x)\n",
      "\n",
      "sorted(l, key=to_int)"
     ],
     "language": "python",
     "metadata": {},
     "outputs": []
    },
    {
     "cell_type": "code",
     "collapsed": false,
     "input": [],
     "language": "python",
     "metadata": {},
     "outputs": []
    }
   ],
   "metadata": {}
  }
 ]
}