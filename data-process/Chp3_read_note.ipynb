{
 "metadata": {
  "name": ""
 },
 "nbformat": 3,
 "nbformat_minor": 0,
 "worksheets": [
  {
   "cells": [
    {
     "cell_type": "code",
     "collapsed": false,
     "input": [
      "cd pydata-book/"
     ],
     "language": "python",
     "metadata": {},
     "outputs": []
    },
    {
     "cell_type": "markdown",
     "metadata": {},
     "source": [
      "## Debuging with ipdb"
     ]
    },
    {
     "cell_type": "code",
     "collapsed": false,
     "input": [
      "run ch03/ipython_bug.py"
     ],
     "language": "python",
     "metadata": {},
     "outputs": []
    },
    {
     "cell_type": "markdown",
     "metadata": {},
     "source": [
      "debug the previous exception"
     ]
    },
    {
     "cell_type": "code",
     "collapsed": false,
     "input": [
      "%debug"
     ],
     "language": "python",
     "metadata": {},
     "outputs": []
    },
    {
     "cell_type": "markdown",
     "metadata": {},
     "source": [
      "run script in debug mode immediately"
     ]
    },
    {
     "cell_type": "code",
     "collapsed": false,
     "input": [
      "run -d ch03/ipython_bug.py"
     ],
     "language": "python",
     "metadata": {},
     "outputs": []
    },
    {
     "cell_type": "markdown",
     "metadata": {},
     "source": [
      "## Basic Profiling\n",
      "\n",
      "### in Python shell\n",
      "\n",
      "```bash\n",
      "$ python -m cProfile [-s cumulative] cprof_example.py\n",
      "```\n",
      "\n",
      "### in IPython\n",
      "\n",
      "```python\n",
      "In [1]: %prun -l 7 -s cumulative cprof_example.py\n",
      "```\n",
      "\n",
      "## Profiling a Function Line-by-Line\n",
      "\n",
      "Use [line_profiler](https://bitbucket.org/kmike/line_profiler/overview).\n",
      "One should use this forked repo instead for Python 3.x support. (Cython is required for building the package)\n"
     ]
    },
    {
     "cell_type": "code",
     "collapsed": false,
     "input": [
      "cd ch03_self\n",
      "%run prof_mod.py"
     ],
     "language": "python",
     "metadata": {},
     "outputs": [
      {
       "ename": "SyntaxError",
       "evalue": "invalid syntax (<ipython-input-4-58374ba916aa>, line 1)",
       "output_type": "pyerr",
       "traceback": [
        "\u001b[0;36m  File \u001b[0;32m\"<ipython-input-4-58374ba916aa>\"\u001b[0;36m, line \u001b[0;32m1\u001b[0m\n\u001b[0;31m    cd ch03_self\u001b[0m\n\u001b[0m               ^\u001b[0m\n\u001b[0;31mSyntaxError\u001b[0m\u001b[0;31m:\u001b[0m invalid syntax\n"
       ]
      }
     ],
     "prompt_number": 4
    },
    {
     "cell_type": "code",
     "collapsed": false,
     "input": [
      "x = randn(3000, 3000)\n",
      "y = randn(3000, 3000)"
     ],
     "language": "python",
     "metadata": {},
     "outputs": [],
     "prompt_number": 6
    },
    {
     "cell_type": "code",
     "collapsed": false,
     "input": [
      "%prun -l 5 -s cumulative add_and_sum(x, y)"
     ],
     "language": "python",
     "metadata": {},
     "outputs": [
      {
       "output_type": "stream",
       "stream": "stdout",
       "text": [
        " "
       ]
      }
     ],
     "prompt_number": 14
    },
    {
     "cell_type": "code",
     "collapsed": false,
     "input": [
      "%lprun -f add_and_sum -f call_function call_function()"
     ],
     "language": "python",
     "metadata": {},
     "outputs": [
      {
       "output_type": "stream",
       "stream": "stdout",
       "text": [
        "\n"
       ]
      }
     ],
     "prompt_number": 15
    },
    {
     "cell_type": "markdown",
     "metadata": {},
     "source": [
      "## Memory Profiling\n",
      "\n",
      "```bash\n",
      "$ pip-3.3 install -U memory_profiler\n",
      "$ pip-3.3 install psutil\n",
      "```"
     ]
    },
    {
     "cell_type": "code",
     "collapsed": false,
     "input": [
      "%load_ext memory_profiler"
     ],
     "language": "python",
     "metadata": {},
     "outputs": [],
     "prompt_number": 16
    },
    {
     "cell_type": "code",
     "collapsed": false,
     "input": [
      "%mprun -f add_and_sum -f call_function call_function()"
     ],
     "language": "python",
     "metadata": {},
     "outputs": [
      {
       "output_type": "stream",
       "stream": "stdout",
       "text": [
        "\n"
       ]
      }
     ],
     "prompt_number": 17
    }
   ],
   "metadata": {}
  }
 ]
}