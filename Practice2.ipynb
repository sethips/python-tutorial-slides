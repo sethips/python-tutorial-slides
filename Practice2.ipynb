{
 "metadata": {
  "name": ""
 },
 "nbformat": 3,
 "nbformat_minor": 0,
 "worksheets": [
  {
   "cells": [
    {
     "cell_type": "markdown",
     "metadata": {},
     "source": [
      "# Dealing with Big FASTA file"
     ]
    },
    {
     "cell_type": "markdown",
     "metadata": {},
     "source": [
      "\u9019\u908a\u6211\u5011\u76ee\u6a19\u662f\u8981\u80fd\u5f9e\u4e00\u500b\u5f88\u5927\u7684 Fasta \u6a94\u4e2d\u53d6\u5f97\u8cc7\u8a0a\u3002\n",
      "\n",
      "\n",
      "### FASTA\n",
      "\n",
      "Fasta \u5c31\u662f sequencing \u51fa\u4f86\u7684\u7d50\u679c\u6a94\uff0c\u5927\u81f4\u4e0a\u9577\u5f97\u50cf\u9019\u6a23\uff1a\n",
      "\n",
      "```\n",
      ">HWI-H248:87:C1NPGACXX:1:1101:1212:2075 1:N:0:GTGAAA\n",
      "CCTCGAAATACTGGACGATCAACTCCAACTCCCATTGCATTAAGCCCATTGTCAACATAAAGCACAGTCCCTGTGATAGCAGATGCCAGTGGTGATGCCAG\n",
      ">HWI-H248:87:C1NPGACXX:1:1101:1217:2170 1:N:0:GTGAAA\n",
      "TCTTCATCAGCAGGAGCAGGAATTGCAGTATAAAGAGGCCAATAGTAGGCACGATCATAGATGGTCTTCACATAAGGGCTTTGTAGAACTGCTTCCTTTAA\n",
      ">HWI-H248:87:C1NPGACXX:1:1101:1470:2048 1:N:0:GTGAAA\n",
      "CGCACTTTTAGGGTAGGGTGCGCANNNTTGCAACAAGAAAGGCAAGAGAGCAGGCGATCGGTGTCAATAGCTCTAGTCCTTCTTCACTGCGTCTCTCTACC\n",
      ">HWI-H248:87:C1NPGACXX:1:1101:1421:2121 1:N:0:GTGAAA\n",
      "AATTGTTCCTGATCAGAGTGTCCGGCCTGCTACTGAAGTGGAGAAGCCAAATGCTTCTGGTACTAGTAGCTCTACCTGGGGGATTTCCTCAATTTTTGGTG\n",
      ">HWI-H248:87:C1NPGACXX:1:1101:1374:2157 1:N:0:GTGAAA\n",
      "TCTCGGAGAAGTTACCGACCCGCTTTACCCAGGTGGTAGCTTTGACCCGTTGGGTCTAGCCGATGACCCGGAAGCATTTGCAGAGCTGAAGGTGAAGGAAA\n",
      "```\n",
      "\n",
      "### FastQ\n",
      "\n",
      "\u76f8\u6bd4\u4e4b\u4e0b\uff0c\u591a\u4e86\u5169\u884c\n",
      "\n",
      "```\n",
      "@HWI-H248:87:C1NPGACXX:1:1101:1212:2075 1:N:0:GTGAAA\n",
      "CCTCGAAATACTGGACGATCAACTCCAACTCCCATTGCATTAAGCCCATTGTCAACATAAAGCACAGTCCCTGTGATAGCAGATGCCAGTGGTGATGCCAG\n",
      "+\n",
      "???BDDD73DDDDE93)@FADCFE?EEE@DEDDDDCCDDCEECDDD=@DDCBDCCDEIECEIIIIIIAAACDA?ADDDDAA>@6>>AA>AAA(5:>>AAA>\n",
      "@HWI-H248:87:C1NPGACXX:1:1101:1217:2170 1:N:0:GTGAAA\n",
      "TCTTCATCAGCAGGAGCAGGAATTGCAGTATAAAGAGGCCAATAGTAGGCACGATCATAGATGGTCTTCACATAAGGGCTTTGTAGAACTGCTTCCTTTAA\n",
      "+\n",
      "@@@BDDFBFDFHFGGBHDGFBFEGFGID::CFFB<?CDHGDGGCGFGHGEBFHIGHGICHHCGGIGHEGEFEHEEDFBBEC@>ACA@CCCDCDACDCCDDD\n",
      "@HWI-H248:87:C1NPGACXX:1:1101:1470:2048 1:N:0:GTGAAA\n",
      "CGCACTTTTAGGGTAGGGTGCGCANNNTTGCAACAAGAAAGGCAAGAGAGCAGGCGATCGGTGTCAATAGCTCTAGTCCTTCTTCACTGCGTCTCTCTACC\n",
      "+\n",
      "CCCFFFFFHHHGHAGHIJEGIJIJ###11?FGHIJJJJIIGIIJJIEIHIFGIJHHFFFDD;??CCDFDDDDDDDDDDDDDDDDDEDDDDB>BDDCCDED>\n",
      "@HWI-H248:87:C1NPGACXX:1:1101:1421:2121 1:N:0:GTGAAA\n",
      "AATTGTTCCTGATCAGAGTGTCCGGCCTGCTACTGAAGTGGAGAAGCCAAATGCTTCTGGTACTAGTAGCTCTACCTGGGGGATTTCCTCAATTTTTGGTG\n",
      "+\n",
      "BBBFFFEFHHHHHJJJIJIIHJIJIJHFFGFHIFHGIJFGIIIDHHIIIJFHIJJJJJJJHIIIJIIJJIIHHHHHHFFFDDDDDDDECDDDDEDDCBBA@\n",
      "@HWI-H248:87:C1NPGACXX:1:1101:1374:2157 1:N:0:GTGAAA\n",
      "TCTCGGAGAAGTTACCGACCCGCTTTACCCAGGTGGTAGCTTTGACCCGTTGGGTCTAGCCGATGACCCGGAAGCATTTGCAGAGCTGAAGGTGAAGGAAA\n",
      "+\n",
      "B@@DBDDDHHHHHIJJEHHIIGIJJJIJJJJJJBFHFHIJJJJIIJJJJB?CHFBDFEEEEBDDDDDDDD@BDDDDDDDEDECDBDDDDDDD3>CC>CBCC\n",
      "```\n",
      "\n",
      "\n",
      "### FastQ to Fasta\n",
      "\n",
      "```bash\n",
      "$ gunzip -c zipped_fastq.gz | awk 'NR % 4 == 1 || NR % 4 == 2'\n",
      "\n",
      "$ cat some.fastq | awk 'NR % 4 == 1 {sub(/^@/, \">\"); print}  NR % 4 == 2 {print}'\n",
      "```\n",
      "\n",
      "\u610f\u601d\u5c31\u662f\u53ea\u5370\u6bcf\u56db\u884c\u4e2d\u7684\u7b2c\u4e00\u3001\u4e8c\u884c\u3002\u6539\u9032\u7684\u7248\u672c\u5247\u662f\u9664\u4e86\u5370\u51fa\u4e4b\u5916\uff0c\u9084\u628a\u958b\u982d\u7684 \"@\" \u53d6\u4ee3\u6210 \">\""
     ]
    },
    {
     "cell_type": "markdown",
     "metadata": {},
     "source": [
      "## \u76ee\u6a19\n",
      "\n",
      "\u800c\u4eca\u5929\u7684\u76ee\u6a19\u5c31\u662f\u8981\u80fd\u8b80\u9032\u4f86\u4e00\u500b fasta \u6a94\uff0c\u4e26\u4e14\u628a\u6211\u5011\u60f3\u8981\u7684\u8cc7\u8a0a\u62ff\u51fa\u4f86\u3002\n",
      "\n",
      "\u9996\u5148\u6211\u5011\u6709\u9019\u6a23\u4e00\u500b\u6a94\u6848\uff0c\u9019\u662f\u8a18\u9304\u4eba\u985e Homo *sapiens* (hg19) \u6240\u6709\u57fa\u56e0\u7684 3' UTR\n",
      "\n",
      "![mRNA structure](http://upload.wikimedia.org/wikipedia/commons/thumb/b/ba/MRNA_structure.svg/1000px-MRNA_structure.svg.png)\n",
      "\n",
      "\u9019\u6a23\u7684\u8cc7\u8a0a\u53ef\u4ee5\u5f9e\u5f88\u591a\u516c\u958b\u7684\u8cc7\u6599\u5eab\u4e2d\u5f97\u5230\u3002\n",
      "\n",
      "\u6211\u5011\u4f7f\u7528 UCSC Table Browser \u4e0a\u6293\u4e0b\u4f86\u7684\u8cc7\u6599\u70ba\u4f8b\uff1a"
     ]
    },
    {
     "cell_type": "code",
     "collapsed": false,
     "input": [
      "# \u9019\u908a\u53ef\u4ee5\u66ff\u63db\u8a72 Fasta \u6a94\u7684\u8def\u5f91\uff0c\u9019\u6a23\u8a2d\u8a08\u7684\u597d\u8655\u662f\u5982\u679c\u8981\u6539\u6a94\u6848\u7684\u8a71\u6703\u883b\u65b9\u4fbf\u7684\u3002\n",
      "PATH_TO_BIG_FASTA = '/Users/liang/hg19_3UTR_UCSC_GB.kinomoto.fasta'\n",
      "\n",
      "# \u8b80\u51fa\u524d 10 \u884c\u5b57\n",
      "!head -n 10 $PATH_TO_BIG_FASTA\n",
      "\n",
      "# wc = wordcount, \u7528\u4f86\u6578\u884c\u6578\u7528\n",
      "!wc -l $PATH_TO_BIG_FASTA"
     ],
     "language": "python",
     "metadata": {},
     "outputs": []
    },
    {
     "cell_type": "markdown",
     "metadata": {},
     "source": [
      "\u53ef\u4ee5\u767c\u73fe\u9019\u500b\u6a94\u6848\u662f Fasta \u683c\u5f0f\u6c92\u932f\uff0c\u4f46\u7a0b\u5f0f\u81ea\u5df1\u63d2\u5165\u4e86\u984d\u5916\u7684\u63db\u884c\uff0c\u4f7f\u5f97\u4e00\u500b record \u5360\u8d85\u904e 2 \u884c\u3002\u4f46\u53ef\u4ee5\u770b\u51fa\u9019\u500b\u6a94\u6848\u4e0d\u5c0f\uff0c\u6709\u4e00\u767e\u591a\u842c\u884c\u3002\n",
      "\n",
      "**\u5617\u8a66 cat \u6216\u662f\u7528\u8a18\u66f8\u672c\u958b\u5b83\u6642\u8981\u6ce8\u610f** \u3002\u4e5f\u8a31\u5728 Unix \u4e0b\u958b\u9019\u500b\u6a94\u4e0d\u6703\u6709\u554f\u984c\uff0c\u4f46\u5728 Windows \u4e0a\u591a\u6578\u8edf\u9ad4\u53ef\u80fd\u90fd\u6703\u7576\u6389\u3002\n",
      "\n",
      "\u6240\u4ee5\u6211\u5011\u5148\u62ff\u6bd4\u8f03\u5c0f\u7684\u6a94\u6848\u4f86\u7df4\u5175\uff0c\u9019\u500b\u5448\u63a5 Practice 1 \u5b57\u4e32\u6bd4\u5c0d\u7528\u7684\u6a94\u6848\uff0c\u9019\u6a23\u5c31\u662f\u6a19\u6e96\u7684 fasta \u683c\u5f0f\u3002"
     ]
    },
    {
     "cell_type": "code",
     "collapsed": false,
     "input": [
      "PATH_TO_NORMAL_FASTA = 'demo_code/seq.fa'\n",
      "!head $PATH_TO_NORMAL_FASTA"
     ],
     "language": "python",
     "metadata": {},
     "outputs": []
    },
    {
     "cell_type": "markdown",
     "metadata": {},
     "source": [
      "\u7167\u4e0a\u4e00\u500b\u4f8b\u5b50\uff0c\u6211\u5011\u4e00\u6a23\u4f7f\u7528 `Counter`, `namedtuple` \u9019\u5169\u500b class \u4f86\u64cd\u4f5c fasta"
     ]
    },
    {
     "cell_type": "code",
     "collapsed": false,
     "input": [
      "from collections import Counter, namedtuple"
     ],
     "language": "python",
     "metadata": {},
     "outputs": []
    },
    {
     "cell_type": "code",
     "collapsed": false,
     "input": [
      "# Create a sequence object\n",
      "Seq = namedtuple('Seq', ['id', 'seq'])"
     ],
     "language": "python",
     "metadata": {},
     "outputs": []
    },
    {
     "cell_type": "code",
     "collapsed": false,
     "input": [
      "# putting in data\n",
      "Seq('a_seq_id', 'ATCGATCG')"
     ],
     "language": "python",
     "metadata": {},
     "outputs": []
    },
    {
     "cell_type": "code",
     "collapsed": false,
     "input": [
      "def gen_fasta_records(path, multiline=False):\n",
      "    if multiline:\n",
      "        # if a record spans over two lines, then whether a record ends \n",
      "        # depends on the initial letter of each line.\n",
      "        with open(path) as fasta_f:\n",
      "            seq_id =  None\n",
      "            for line in fasta_f:\n",
      "                if line.startswith('>'):\n",
      "                    if seq_id is not None:        # prevent case of 1st line\n",
      "                        yield Seq(seq_id, seq_part)\n",
      "                    \n",
      "                    seq_id = line[1:].rstrip()    # drop first '>', clean all mess at right-side\n",
      "                    seq_part = ''\n",
      "                else:\n",
      "                    seq_part = seq_part + line.rstrip()   # append the sequence\n",
      "    else:\n",
      "        # if it is a standard two-line-a-record fasta, the parsing can speed up\n",
      "        # by no guessing about whether a sequence is ended.\n",
      "        with open(path) as fasta_f:\n",
      "            for line_id, line_seq in zip(*[iter(fasta_f)]*2):\n",
      "                yield Seq(\n",
      "                    line_id[1:].rstrip(),\n",
      "                    line_seq.rstrip())"
     ],
     "language": "python",
     "metadata": {},
     "outputs": []
    },
    {
     "cell_type": "markdown",
     "metadata": {},
     "source": [
      "\u5982\u679c\u4e00\u500b record \u53ef\u4ee5\u5360\u7528\u5169\u884c\u4ee5\u4e0a\n",
      "\n",
      "    >seq_description\n",
      "    ATCGATCGATCG...\n",
      "    ATCGATCGATCG...\n",
      "    >seq_description\n",
      "    ATCG...\n",
      "    \n",
      "\u5247\u5fc5\u9808\u6aa2\u67e5\u6bcf\u4e00\u884c\u7684\u5167\u5bb9\u4f86\u5224\u65b7\u4e00\u500b record \u662f\u5426\u8b80\u5b8c\u3002\n",
      "\n",
      "\u5982\u679c\u5f88\u77e5\u9053\u81ea\u5df1\u7684\u6a94\u6848\u5167\u5bb9\uff0c\u90a3\u53ea\u8981\u5169\u884c\u3001\u5169\u884c\u8b80\u9032\u4f86\u5c31\u597d"
     ]
    },
    {
     "cell_type": "code",
     "collapsed": false,
     "input": [
      "def gen_fasta_records2(path, multiline=False):\n",
      "    fasta_f = open(path)\n",
      "    if multiline:\n",
      "        # if a record spans over two lines, then whether a record ends \n",
      "        # depends on the initial letter of each line.\n",
      "        seq_id =  None\n",
      "        for line in fasta_f:\n",
      "            if line.startswith('>'):\n",
      "                if seq_id is not None:        # prevent case of 1st line\n",
      "                    yield Seq(seq_id, ''.join(seq_part))\n",
      "                \n",
      "                seq_id = line[1:].rstrip()    # drop first '>', clean all mess at right-side\n",
      "                seq_part = []\n",
      "            else:\n",
      "                seq_part.append(line.rstrip())   # append the sequence\n",
      "    else:\n",
      "        # if it is a standard two-line-a-record fasta, the parsing can speed up\n",
      "        # by no guessing about whether a sequence is ended.\n",
      "        for line_id, line_seq in zip(*[iter(fasta_f)]*2):\n",
      "            yield Seq(\n",
      "                line_id[1:].rstrip(),     # id\n",
      "                line_seq.rstrip())        # sequence\n",
      "    fasta_f.close()"
     ],
     "language": "python",
     "metadata": {},
     "outputs": []
    },
    {
     "cell_type": "code",
     "collapsed": false,
     "input": [
      "norm_list = [seq for seq in gen_fasta_records(PATH_TO_NORMAL_FASTA)]\n",
      "multi_list = [seq for seq in gen_fasta_records(PATH_TO_NORMAL_FASTA, multiline=True)]"
     ],
     "language": "python",
     "metadata": {},
     "outputs": []
    },
    {
     "cell_type": "code",
     "collapsed": false,
     "input": [
      "all(seq1 == seq2 for seq1, seq2 in zip(norm_list, multi_list))"
     ],
     "language": "python",
     "metadata": {},
     "outputs": []
    },
    {
     "cell_type": "code",
     "collapsed": false,
     "input": [
      "%timeit [seq for seq in gen_fasta_records(PATH_TO_NORMAL_FASTA)]\n",
      "%timeit [seq for seq in gen_fasta_records(PATH_TO_NORMAL_FASTA, multiline=True)]\n",
      "\n",
      "%timeit [seq for seq in gen_fasta_records2(PATH_TO_NORMAL_FASTA)]\n",
      "%timeit [seq for seq in gen_fasta_records2(PATH_TO_NORMAL_FASTA, multiline=True)]"
     ],
     "language": "python",
     "metadata": {},
     "outputs": []
    },
    {
     "cell_type": "markdown",
     "metadata": {},
     "source": [
      "### \u8f49\u6210\u6a19\u6e96\u7684 fasta\n",
      "\n",
      "\u65e2\u7136\u6211\u5011\u5beb\u4e86\u4e00\u500b fasta parser\uff0c\u5c31\u4f7f\u7528\u4ed6\u4f86\u8f49\u6a94\u5427"
     ]
    },
    {
     "cell_type": "code",
     "collapsed": false,
     "input": [
      "%%time\n",
      "PATH_TO_LARGE_NORM_FA = '/Users/liang/norm_large.fa'\n",
      "with open(PATH_TO_LARGE_NORM_FA, 'w') as fasta_f:\n",
      "    for seq in gen_fasta_records2(PATH_TO_BIG_FASTA, multiline=True):\n",
      "        record = (\n",
      "            '>%s\\n'    # sequence's id\n",
      "            '%s\\n'     # sequence's sequence\n",
      "        ) % (seq.id, seq.seq)\n",
      "        fasta_f.write(record)\n",
      "\n",
      "!head -n 2 $PATH_TO_LARGE_NORM_FA\n",
      "!wc -l $PATH_TO_LARGE_NORM_FA"
     ],
     "language": "python",
     "metadata": {},
     "outputs": []
    },
    {
     "cell_type": "code",
     "collapsed": false,
     "input": [
      "%timeit -n 5 [seq for seq in gen_fasta_records(PATH_TO_LARGE_NORM_FA)]\n",
      "%timeit -n 5 [seq for seq in gen_fasta_records(PATH_TO_LARGE_NORM_FA, multiline=True)]\n",
      "\n",
      "%timeit -n 5 [seq for seq in gen_fasta_records2(PATH_TO_LARGE_NORM_FA)]\n",
      "%timeit -n 5 [seq for seq in gen_fasta_records2(PATH_TO_LARGE_NORM_FA, multiline=True)]"
     ],
     "language": "python",
     "metadata": {},
     "outputs": []
    },
    {
     "cell_type": "code",
     "collapsed": false,
     "input": [
      "from Bio import SeqIO"
     ],
     "language": "python",
     "metadata": {},
     "outputs": []
    },
    {
     "cell_type": "code",
     "collapsed": false,
     "input": [
      "TEST_MULTILINE_FASTA = '/Users/liang/test_multiline.fasta'"
     ],
     "language": "python",
     "metadata": {},
     "outputs": []
    },
    {
     "cell_type": "code",
     "collapsed": false,
     "input": [
      "multi_list = [seq for seq in gen_fasta_records(TEST_MULTILINE_FASTA, multiline=True)]"
     ],
     "language": "python",
     "metadata": {},
     "outputs": []
    },
    {
     "cell_type": "code",
     "collapsed": false,
     "input": [
      "seq_generator = SeqIO.parse(TEST_MULTILINE_FASTA, \"fasta\")\n",
      "biopy_seq_list = [Seq(seq.description, str(seq.seq)) for seq in seq_generator]"
     ],
     "language": "python",
     "metadata": {},
     "outputs": []
    },
    {
     "cell_type": "code",
     "collapsed": false,
     "input": [
      "all(seq1 == seq2 for seq1, seq2 in zip(multi_list, biopy_seq_list))"
     ],
     "language": "python",
     "metadata": {},
     "outputs": []
    },
    {
     "cell_type": "code",
     "collapsed": false,
     "input": [
      "%timeit -n 10 multi_list = [seq for seq in gen_fasta_records(PATH_TO_BIG_FASTA, multiline=True)]\n",
      "%timeit -n 10 biopy_seq_list = [Seq(seq.description, str(seq.seq)) for seq in SeqIO.parse(PATH_TO_BIG_FASTA, \"fasta\")]"
     ],
     "language": "python",
     "metadata": {},
     "outputs": []
    },
    {
     "cell_type": "code",
     "collapsed": false,
     "input": [
      "multi_list = [seq for seq in gen_fasta_records(PATH_TO_BIG_FASTA, multiline=True)]"
     ],
     "language": "python",
     "metadata": {},
     "outputs": []
    },
    {
     "cell_type": "code",
     "collapsed": false,
     "input": [
      "NORM_LARGE_FA = '/Users/liang/large.fa'"
     ],
     "language": "python",
     "metadata": {},
     "outputs": []
    },
    {
     "cell_type": "code",
     "collapsed": false,
     "input": [
      "with open(NORM_LARGE_FA, 'w') as fasta_f:\n",
      "    for seq in multi_list:\n",
      "        fasta_f.write('>%s\\n%s\\n' % (seq.id, seq.seq))"
     ],
     "language": "python",
     "metadata": {},
     "outputs": []
    },
    {
     "cell_type": "code",
     "collapsed": false,
     "input": [
      "!head -n 4 $NORM_LARGE_FA"
     ],
     "language": "python",
     "metadata": {},
     "outputs": []
    },
    {
     "cell_type": "code",
     "collapsed": false,
     "input": [
      "%timeit -n 5 norm_list = [seq for seq in gen_fasta_records(NORM_LARGE_FASTA)]\n",
      "%timeit -n 5 multi_list = [seq for seq in gen_fasta_records(NORM_LARGE_FASTA, multiline=True)]\n",
      "%timeit -n 5 biopy_seq_list = [Seq(seq.description, str(seq.seq)) for seq in SeqIO.parse(NORM_LARGE_FASTA, \"fasta\")]"
     ],
     "language": "python",
     "metadata": {},
     "outputs": []
    },
    {
     "cell_type": "code",
     "collapsed": false,
     "input": [
      "norm_list = [seq for seq in gen_fasta_records(NORM_LARGE_FASTA)]"
     ],
     "language": "python",
     "metadata": {},
     "outputs": []
    },
    {
     "cell_type": "code",
     "collapsed": false,
     "input": [
      "len(norm_list)"
     ],
     "language": "python",
     "metadata": {},
     "outputs": []
    },
    {
     "cell_type": "code",
     "collapsed": false,
     "input": [
      "class Seq:\n",
      "    def __init__(self, id, seq):\n",
      "        self.id = id\n",
      "        self.seq = seq\n",
      "    def __eq__(self, other):\n",
      "        return self.id == other.id and self.seq == other.seq"
     ],
     "language": "python",
     "metadata": {},
     "outputs": []
    },
    {
     "cell_type": "code",
     "collapsed": false,
     "input": [
      "%timeit norm_list = [seq for seq in gen_fasta_records(PATH_TO_NORMAL_FASTA)]\n",
      "%timeit multi_list = [seq for seq in gen_fasta_records(PATH_TO_NORMAL_FASTA, multiline=True)]"
     ],
     "language": "python",
     "metadata": {},
     "outputs": []
    },
    {
     "cell_type": "code",
     "collapsed": false,
     "input": [
      "%timeit -n 5 norm_list = [seq for seq in gen_fasta_records(NORM_LARGE_FASTA)]\n",
      "%timeit -n 5 multi_list = [seq for seq in gen_fasta_records(NORM_LARGE_FASTA, multiline=True)]\n",
      "%timeit -n 5 biopy_seq_list = [Seq(seq.description, str(seq.seq)) for seq in SeqIO.parse(NORM_LARGE_FASTA, \"fasta\")]"
     ],
     "language": "python",
     "metadata": {},
     "outputs": []
    },
    {
     "cell_type": "code",
     "collapsed": false,
     "input": [
      "%timeit multi_list = [seq for seq in gen_fasta_records(PATH_TO_BIG_FASTA, multiline=True)]\n",
      "%timeit biopy_seq_list = [Seq(seq.description, str(seq.seq)) for seq in SeqIO.parse(PATH_TO_BIG_FASTA, \"fasta\")]"
     ],
     "language": "python",
     "metadata": {},
     "outputs": []
    },
    {
     "cell_type": "code",
     "collapsed": false,
     "input": [
      "%whos"
     ],
     "language": "python",
     "metadata": {},
     "outputs": []
    },
    {
     "cell_type": "code",
     "collapsed": false,
     "input": [],
     "language": "python",
     "metadata": {},
     "outputs": []
    }
   ],
   "metadata": {}
  }
 ]
}