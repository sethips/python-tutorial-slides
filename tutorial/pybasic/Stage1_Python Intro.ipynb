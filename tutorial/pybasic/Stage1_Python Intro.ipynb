{
 "metadata": {
  "name": ""
 },
 "nbformat": 3,
 "nbformat_minor": 0,
 "worksheets": [
  {
   "cells": [
    {
     "cell_type": "heading",
     "level": 1,
     "metadata": {},
     "source": [
      "Stage 1: Python Introduction"
     ]
    },
    {
     "cell_type": "markdown",
     "metadata": {},
     "source": [
      "## Python \u662f\u4e00\u500b\u2026\u2026\u8a9e\u8a00\n",
      "\n",
      "- \u52d5\u614b\u578b\u5225 (dynamic type)\n",
      "- \u4e0d\u9700\u8981\u5ba3\u544a (non-declaritive)\n",
      "- \u4e0d\u9700\u8981\u7de8\u8b6f (interpretive)\n",
      "- \u7269\u4ef6\u5c0e\u5411 (object-oriented)"
     ]
    },
    {
     "cell_type": "markdown",
     "metadata": {},
     "source": [
      "## \u70ba\u4ec0\u9ebc\u8981\u7528(\u5b78) Python\uff1f\n",
      "\n",
      "- \u8a9e\u6cd5\u7c21\u6f54\uff0c\u4eff\u82f1\u6587\u4f7f\u7528\uff08\u5beb\u7a0b\u5f0f\u50cf\u5728\u8aaa\u8a71\uff09\n",
      "- \u6709\u5f88\u660e\u78ba\u7684\u683c\u5f0f\u898f\u5b9a\uff08\u5f37\u8feb\u5beb\u6574\u9f4a\u7684\u7a0b\u5f0f\uff09\n",
      "    - \u8981\u6c42\u7e2e\u6392\n",
      "    - \u5b98\u65b9\u7d71\u4e00\u7684 Coding Style ([PEP8])\n",
      "\n",
      "- \u958b\u653e\u6e90\u59cb\u78bc\u3001\u5f37\u5927\u7684\u793e\u7fa4\n",
      "    - \u5b98\u65b9\u7684\u8aaa\u660e\u6587\u4ef6\u5f88\u5b8c\u6574\n",
      "    - [StackOverflow] \u4e0a\u89e3\u7b54\u901f\u5ea6\u5feb\n",
      "    - \u5f88\u8c50\u5bcc\u7684\u7b2c\u4e09\u65b9\u5957\u4ef6\n",
      "\n",
      "- \u8de8\u5e73\u53f0\u3001\u514d\u7de8\u8b6f\n",
      "    - \u53ef\u4ee5\u5feb\u901f\u958b\u767c\n",
      "    - \u908a\u958b\u767c\u908a\u6e2c\u8a66\n",
      "\n",
      "- \u6a19\u6e96\u51fd\u5f0f\u5eab\uff08\u81ea\u5e36\u7684 library) \u529f\u80fd\u5f37\u5927\n",
      "    - \u81ea\u5e79\u7684\u6642\u5019\u5f88\u65b9\u4fbf\n",
      "\n",
      "[PEP8]: http://python.org/pep8\n",
      "[StackOverflow]: http://stackoverflow.com/"
     ]
    },
    {
     "cell_type": "markdown",
     "metadata": {},
     "source": [
      "## Python \u7248\u672c\uff0c2 or 3 \uff1f\n",
      "\n",
      "- \u4e00\u8a00\u4ee5\u853d\u4e4b\uff0c\u8a72\u63db 3 \u4e86\n",
      "- \u5b78\u5beb 3.3\uff0c\u56de\u4f86\u76f8\u5bb9 2.7\n",
      "- \u591a\u6578\u5957\u4ef6\u5df2\u7d93\u5728 porting to Python 3\n",
      "    - \u5be6\u9a57\u5ba4\u7528\u5230\u7684\u5957\u4ef6\uff0c\u90fd\u5df2\u652f\u63f4 3.3\n",
      "    \n",
      "- \u8a9e\u6cd5\u6709\u5dee\uff0c\u4f46\u53ea\u8003\u616e 2.7 \u8207 3.3 \u7684\u8a71\uff0cporting \u5f88\u7c21\u55ae\n",
      "    - Unicode \u662f\u6700\u8907\u96dc\u7684\u90e8\u4efd\n",
      "    - Python 3 String \u539f\u751f\u652f\u63f4 UTF8"
     ]
    },
    {
     "cell_type": "markdown",
     "metadata": {},
     "source": [
      "## Python \u5982\u4f55\u904b\u4f5c\uff1f\n",
      "\n",
      "- \u5982\u540c MATLAB\uff0c\u53ef\u4ee5\u4e00\u884c\u4e00\u884c\u4e0b\u6307\u4ee4\uff0c\u4e5f\u53ef\u4ee5\u4e00\u6b21\u5beb\u597d\u4e00\u500b script\n",
      "    - \u9019\u7a2e\u8a9e\u8a00\u7d71\u7a31 interpretive language\n",
      "    - \u50cf Perl, ...\n",
      "\n",
      "- \u9810\u8a2d\uff0c\u5728\u4f60\u4e0b\u6307\u4ee4\uff0c\u547c\u53eb\u51fd\u6578\u6642\n",
      "    - Python \u9664\u4e86\u81ea\u5df1\u57f7\u884c\u5b83\u5916\n",
      "    - \u5c0d\u4e00\u4e9b\u51fd\u6578\u6703\u547c\u53eb\u5e95\u4e0b\u5be6\u4f5c\u7684 C \u8a9e\u8a00\u7a0b\u5f0f\u78bc\n",
      "\n",
      "- \u70ba\u4ec0\u9ebc\u8981\u9019\u6a23\u505a\n",
      "    - \u70ba\u4e86\u52d5\u614b\uff0c\u8b93\u4f60\u908a\u6253\u908a\u57f7\u884c\uff08\u8d85\u51fa\u7bc4\u570d\uff09\n",
      "        - \u7c21\u55ae\u4f86\u8aaa\uff0c\u5e95\u4e0b\u5c31\u662f\u4f60\u6253\u4e00\u884c\uff0c\u5c31\u57f7\u884c\u4e00\u6bb5 C code\n",
      "    - \u70ba\u4e86\u5feb\n",
      "        - **\u6ce8\u610f** Python \u672c\u8eab\u901f\u5ea6\u4e0d\u5feb\n",
      "        - \u6240\u4ee5\u80fd\u7528\u7cfb\u7d71\u5167\u5efa\u7684\u51fd\u5f0f\uff0c\u5c31\u4e0d\u8981\u81ea\u5df1\u523b\n",
      "        \n",
      "- \u4ee5\u4e0a\u662f\u4ee5\u5b98\u65b9\u6a19\u6e96\u7684 `CPython` \u8209\u4f8b\uff0c\u5be6\u969b\u4e0a\u6709\n",
      "    - Java \u7684 Jython\n",
      "    - .NET \u7684 IronPython\n",
      "    - Python \u7684 PyPy (JIT)"
     ]
    },
    {
     "cell_type": "markdown",
     "metadata": {},
     "source": [
      "## \u5982\u4f55\u4f7f\u7528 Python ?\n",
      "\n",
      "- \u4f3a\u670d\u5668\u90fd\u5b89\u88dd\u597d\u4e86 Python 3.3\n",
      "- Windows \u5b89\u88dd\u53ef\u4ee5\u53c3\u8003[\u9019\u88e1]\n",
      "\n",
      "\u5b8c\u6210\u5b89\u88dd\u5f8c\uff0c\u6253\u958b\u4f60\u7684\u7d42\u7aef\u6a5f\uff0c\u8f38\u5165\u4ee5\u4e0b\u4efb\u4e00\u7a2e\uff08\u540d\u7a31\u56e0\u5b89\u88dd\u7684\u7cfb\u7d71\u800c\u7570\uff09\n",
      "\n",
      "```bash\n",
      "$ python\n",
      "$ python3\n",
      "$ python33\n",
      "$ python-3.3\n",
      "```"
     ]
    },
    {
     "cell_type": "code",
     "collapsed": false,
     "input": [],
     "language": "python",
     "metadata": {},
     "outputs": []
    }
   ],
   "metadata": {}
  }
 ]
}