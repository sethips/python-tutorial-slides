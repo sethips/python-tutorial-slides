{
 "metadata": {
  "name": ""
 },
 "nbformat": 3,
 "nbformat_minor": 0,
 "worksheets": [
  {
   "cells": [
    {
     "cell_type": "heading",
     "level": 1,
     "metadata": {},
     "source": [
      "Chapter 1 Python Introduction"
     ]
    },
    {
     "cell_type": "markdown",
     "metadata": {},
     "source": [
      "\u9019\u7cfb\u5217 IPython notebook \u70ba\u95b1\u8b80\u5b98\u65b9 [Tutorial][Official] \u7684\u7b46\u8a18\uff0c\u8acb\u5171\u540c\u642d\u914d\u670d\u7528\u3002\n",
      "\n",
      "[Official]: http://docs.python.org/3/tutorial/index.html"
     ]
    },
    {
     "cell_type": "markdown",
     "metadata": {},
     "source": [
      "## Python \u662f\u4e00\u500b\u2026\u2026\u8a9e\u8a00\n",
      "\n",
      "- \u52d5\u614b\u578b\u5225 (dynamic type)\n",
      "- \u4e0d\u9700\u8981\u5ba3\u544a (non-declaritive)\n",
      "- \u4e0d\u9700\u8981\u7de8\u8b6f (interpretive)\n",
      "- \u7269\u4ef6\u5c0e\u5411 (object-oriented)"
     ]
    },
    {
     "cell_type": "markdown",
     "metadata": {},
     "source": [
      "## \u70ba\u4ec0\u9ebc\u8981\u7528(\u5b78) Python\uff1f\n",
      "\n",
      "- \u8a9e\u6cd5\u7c21\u6f54\uff0c\u4eff\u82f1\u6587\u4f7f\u7528\uff08\u5beb\u7a0b\u5f0f\u50cf\u5728\u8aaa\u8a71\uff09\n",
      "- \u6709\u5f88\u660e\u78ba\u7684\u683c\u5f0f\u898f\u5b9a\uff08\u5f37\u8feb\u5beb\u6574\u9f4a\u7684\u7a0b\u5f0f\uff09\n",
      "    - \u8981\u6c42\u7e2e\u6392\n",
      "    - \u5b98\u65b9\u7d71\u4e00\u7684 Coding Style ([PEP8])\n",
      "\n",
      "- \u958b\u653e\u6e90\u59cb\u78bc\u3001\u5f37\u5927\u7684\u793e\u7fa4\n",
      "    - \u5b98\u65b9\u7684\u8aaa\u660e\u6587\u4ef6\u5f88\u5b8c\u6574\n",
      "    - [StackOverflow] \u4e0a\u89e3\u7b54\u901f\u5ea6\u5feb\n",
      "    - \u5f88\u8c50\u5bcc\u7684\u7b2c\u4e09\u65b9\u5957\u4ef6\n",
      "\n",
      "- \u8de8\u5e73\u53f0\u3001\u514d\u7de8\u8b6f\n",
      "    - \u53ef\u4ee5\u5feb\u901f\u958b\u767c\n",
      "    - \u908a\u958b\u767c\u908a\u6e2c\u8a66\n",
      "\n",
      "- \u6a19\u6e96\u51fd\u5f0f\u5eab\uff08\u81ea\u5e36\u7684 library) \u529f\u80fd\u5f37\u5927\n",
      "    - \u81ea\u5e79\u7684\u6642\u5019\u5f88\u65b9\u4fbf\n",
      "\n",
      "[PEP8]: http://python.org/pep8\n",
      "[StackOverflow]: http://stackoverflow.com/"
     ]
    },
    {
     "cell_type": "markdown",
     "metadata": {},
     "source": [
      "## Python \u7248\u672c\uff0c2 or 3 \uff1f\n",
      "\n",
      "- \u4e00\u8a00\u4ee5\u853d\u4e4b\uff0c\u8a72\u63db 3 \u4e86\n",
      "- \u5b78\u5beb 3.3\uff0c\u56de\u4f86\u76f8\u5bb9 2.7\n",
      "- \u591a\u6578\u5957\u4ef6\u5df2\u7d93\u5728 porting to Python 3\n",
      "    - \u5be6\u9a57\u5ba4\u7528\u5230\u7684\u5957\u4ef6\uff0c\u90fd\u5df2\u652f\u63f4 3.3\n",
      "    \n",
      "- \u8a9e\u6cd5\u6709\u5dee\uff0c\u4f46\u53ea\u8003\u616e 2.7 \u8207 3.3 \u7684\u8a71\uff0cporting \u5f88\u7c21\u55ae\n",
      "    - Unicode \u662f\u6700\u8907\u96dc\u7684\u90e8\u4efd\n",
      "    - Python 3 String \u539f\u751f\u652f\u63f4 UTF8"
     ]
    },
    {
     "cell_type": "markdown",
     "metadata": {},
     "source": [
      "## Python \u5982\u4f55\u904b\u4f5c\uff1f\n",
      "\n",
      "- \u5982\u540c MATLAB\uff0c\u53ef\u4ee5\u4e00\u884c\u4e00\u884c\u4e0b\u6307\u4ee4\uff0c\u4e5f\u53ef\u4ee5\u4e00\u6b21\u5beb\u597d\u4e00\u500b script\n",
      "    - \u9019\u7a2e\u8a9e\u8a00\u7d71\u7a31 interpretive language\n",
      "    - \u50cf Perl, ...\n",
      "\n",
      "- \u9810\u8a2d\uff0c\u5728\u4f60\u4e0b\u6307\u4ee4\uff0c\u547c\u53eb\u51fd\u6578\u6642\n",
      "    - Python \u9664\u4e86\u81ea\u5df1\u57f7\u884c\u5b83\u5916\n",
      "    - \u5c0d\u4e00\u4e9b\u51fd\u6578\u6703\u547c\u53eb\u5e95\u4e0b\u5be6\u4f5c\u7684 C \u8a9e\u8a00\u7a0b\u5f0f\u78bc\n",
      "\n",
      "- \u70ba\u4ec0\u9ebc\u8981\u9019\u6a23\u505a\n",
      "    - \u70ba\u4e86\u52d5\u614b\uff0c\u8b93\u4f60\u908a\u6253\u908a\u57f7\u884c\uff08\u8d85\u51fa\u7bc4\u570d\uff09\n",
      "        - \u7c21\u55ae\u4f86\u8aaa\uff0c\u5e95\u4e0b\u5c31\u662f\u4f60\u6253\u4e00\u884c\uff0c\u5c31\u57f7\u884c\u4e00\u6bb5 C code\n",
      "    - \u70ba\u4e86\u5feb\n",
      "        - **\u6ce8\u610f** Python \u672c\u8eab\u901f\u5ea6\u4e0d\u5feb\n",
      "        - \u6240\u4ee5\u80fd\u7528\u7cfb\u7d71\u5167\u5efa\u7684\u51fd\u5f0f\uff0c\u5c31\u4e0d\u8981\u81ea\u5df1\u523b\n",
      "        \n",
      "- \u4ee5\u4e0a\u662f\u4ee5\u5b98\u65b9\u6a19\u6e96\u7684 `CPython` \u8209\u4f8b\uff0c\u5be6\u969b\u4e0a\u6709\n",
      "    - Java \u7684 Jython\n",
      "    - .NET \u7684 IronPython\n",
      "    - Python \u7684 PyPy (JIT)"
     ]
    },
    {
     "cell_type": "heading",
     "level": 1,
     "metadata": {},
     "source": [
      "Chpater 2"
     ]
    },
    {
     "cell_type": "markdown",
     "metadata": {},
     "source": [
      "## \u5982\u4f55\u4f7f\u7528 Python ?\n",
      "\n",
      "- \u4f3a\u670d\u5668\u90fd\u5b89\u88dd\u597d\u4e86 Python 3.3\n",
      "\n",
      "\u5b8c\u6210\u5b89\u88dd\u5f8c\uff0c\u6253\u958b\u4f60\u7684\u7d42\u7aef\u6a5f\uff0c\u8f38\u5165\u4ee5\u4e0b\u4efb\u4e00\u7a2e\uff08\u540d\u7a31\u56e0\u5b89\u88dd\u7684\u7cfb\u7d71\u800c\u7570\uff09\n",
      "\n",
      "```bash\n",
      "$ python    # \u6709\u53ef\u80fd\u662f Python 2.X\n",
      "$ python3\n",
      "$ python33\n",
      "$ python-3.3\n",
      "```\n",
      "\u57f7\u884c\u6210\u529f\u6703\u9032\u5165\u4ee5\u4e0b\u7684\u756b\u9762\n",
      "\n",
      "```python\n",
      ">>>         # Ctrl+D \u7d50\u675f\n",
      ">>> exit()  # \u6216\u8005 exit() \u4e5f\u53ef\u4ee5\n",
      "```"
     ]
    },
    {
     "cell_type": "markdown",
     "metadata": {},
     "source": [
      "## \u4e92\u52d5\u6a21\u5f0f\n",
      "\n",
      "`>>>` \u8207 `...` \u90fd\u662f\u672c\u6a21\u5f0f\u4e0b\uff0c\u8f38\u5165\u7684\u63d0\u793a\u7b26\u865f\u3002\n",
      "\n",
      "\u5176\u4e2d `...` \u8868\u793a\u73fe\u5728\u7684\u6307\u4ee4\u6cbf\u7e8c\u5148\u524d\u7684\u6307\u4ee4\uff0c\u8868\u793a\u6307\u4ee4\u5c1a\u672a\u8f38\u5165\u5b8c\u7562\u3002\n",
      "\n",
      "\u5e38\u898b\u7684\u60c5\u6cc1\u51fa\u73fe\u5728 `if ... else...` \u5224\u65b7\u5f0f\uff1a\n",
      "\n",
      "```python\n",
      ">>> the_world_is_flat = 0\n",
      ">>> if the_world_is_flat:\n",
      "...     print(\"Oh you can't be a scientist!\")\n",
      "...     \n",
      ">>>     # ready for next input\n",
      "```"
     ]
    },
    {
     "cell_type": "heading",
     "level": 1,
     "metadata": {},
     "source": [
      "Chapter 3"
     ]
    },
    {
     "cell_type": "markdown",
     "metadata": {},
     "source": [
      "\u8aaa\u5be6\u5728\u5c31\u6162\u6162\u770b\uff0c\u9019\u908a\u662f\u8b1b\u57fa\u672c\u7684\u8a9e\u6cd5\n",
      "\n",
      "## \u8a3b\u89e3\n",
      "\n",
      "\u5f9e `#` \u5b57\u865f\u958b\u59cb\u3002\n",
      "\n",
      "```\n",
      "1 + 1 # \u9019\u5c31\u662f\u4e00\u500b\u8a3b\u89e3\n",
      "      # \u9019\u500b\u4e5f\u662f\n",
      "text = \"\u4f46\u9019\u500b # \u5c31\u4e0d\u662f\u56e0\u70ba\u88ab\u5305\u5728\u5b57\u4e32\u88e1\"\n",
      "```\n",
      "\n",
      "## 3.1.1 Numbers\n",
      "\n",
      "\u6578\u5b57\u7684\u52a0\u6e1b\u4e58\u9664\uff0c\u6574\u6578\u7684\u9664\u6cd5\u8207\u9918\u6578\uff0c\u6307\u6578\u3002\n",
      "\n",
      "## 3.1.2 Strings\n",
      "\n",
      "### \u591a\u884c\u6587\u5b57\n",
      "\n",
      "\u4f7f\u7528 `\"\"\" ... \"\"\"` \u6216 `'''' ... '''` \u7e3d\u4e4b\u662f\u4e09\u500b\u91cd\u8986\uff0c\u4f7f\u7528 `\\` \u8868\u793a\u96d6\u7136\u63db\u884c\u4f46\u7a0b\u5f0f\u78bc\u662f\u9023\u7e8c\u7684\u3002"
     ]
    },
    {
     "cell_type": "code",
     "collapsed": false,
     "input": [
      "print('''\\   # \u5b57\u4e32\u4e2d\uff0c\u6240\u4ee5\u9019\u500b\u4e0d\u662f\u8a3b\u89e3\n",
      "Usage: thingy [OPTIONS]\n",
      "     -h                        Display this usage message\n",
      "     -H hostname               Hostname to connect to\n",
      "''')"
     ],
     "language": "python",
     "metadata": {},
     "outputs": [
      {
       "output_type": "stream",
       "stream": "stdout",
       "text": [
        "\\   # \u5b57\u4e32\u4e2d\uff0c\u6240\u4ee5\u9019\u500b\u4e0d\u662f\u8a3b\u89e3\n",
        "Usage: thingy [OPTIONS]\n",
        "     -h                        Display this usage message\n",
        "     -H hostname               Hostname to connect to\n",
        "\n"
       ]
      }
     ],
     "prompt_number": 9
    },
    {
     "cell_type": "markdown",
     "metadata": {},
     "source": [
      "\u300c \\ \u300d\u5f8c\u9762\u5fc5\u9808\u4e0d\u80fd\u6709**\u4efb\u4f55\u7a7a\u767d**\uff0c\u624d\u6703\u88ab\u8996\u70ba\u9023\u7e8c\u5169\u884c\u7a0b\u5f0f\u78bc\u7528\u3002\n",
      "\n",
      "\u6240\u4ee5\u4e0d\u8981\u7528\u9019\u500b\uff01\uff01\u5f88\u5bb9\u6613\u7522\u751f\u932f\u8aa4\u7684\u7a0b\u5f0f\u78bc\u3002\u4f46\u591a\u884c\u6587\u5b57\u4e2d\uff0c\u70ba\u4e86\u6392\u7248\u6574\u9f4a\u6709\u4e9b\u4eba\u6703\u9019\u6a23\u7528\u3002"
     ]
    },
    {
     "cell_type": "code",
     "collapsed": false,
     "input": [
      "print('''Usa\\\n",
      "ge: thing [OPTIONS]\n",
      "     -h                        Display this usage message\n",
      "     -H hostname               Hostname to connect to\n",
      "''')"
     ],
     "language": "python",
     "metadata": {},
     "outputs": [
      {
       "output_type": "stream",
       "stream": "stdout",
       "text": [
        "Usage: thing [OPTIONS]\n",
        "     -h                        Display this usage message\n",
        "     -H hostname               Hostname to connect to\n",
        "\n"
       ]
      }
     ],
     "prompt_number": 1
    },
    {
     "cell_type": "markdown",
     "metadata": {},
     "source": [
      "\u60f3\u8981\u6709\u8a3b\u89e3\u5728\u5f88\u9577\u7684\u5b57\u4e32\u7684\u8a71\uff0c\u4e0d\u5982\u7528\u4ee5\u4e0b\u7684\u65b9\u6cd5\uff1a\n"
     ]
    },
    {
     "cell_type": "code",
     "collapsed": false,
     "input": [
      "print('\u9019\u662f\u7b2c\u4e00\u6bb5\uff0c'  # \u9019\u662f\u6211\u7684\u8a3b\u89e3\n",
      "      '\u9019\u662f\u7b2c\u4e8c\u6bb5\uff0c'\n",
      "      '\u5b57\u4e32\u6703\u81ea\u52d5\u88ab\u63a5\u8d77\u4f86\u3002\\n'\n",
      "      '\u63db\u884c\u8981\u81ea\u5df1\u4f86')"
     ],
     "language": "python",
     "metadata": {},
     "outputs": [
      {
       "output_type": "stream",
       "stream": "stdout",
       "text": [
        "\u9019\u662f\u7b2c\u4e00\u6bb5\uff0c\u9019\u662f\u7b2c\u4e8c\u6bb5\uff0c\u5b57\u4e32\u6703\u81ea\u52d5\u88ab\u63a5\u8d77\u4f86\u3002\n",
        "\u63db\u884c\u8981\u81ea\u5df1\u4f86\n"
       ]
      }
     ],
     "prompt_number": 7
    },
    {
     "cell_type": "markdown",
     "metadata": {},
     "source": [
      "### Index \u89c0\u5ff5\u5f88\u91cd\u8981\uff01\n",
      "\n",
      "## 3.1.3 Lists\n",
      "\u5f88\u5be6\u7528\u7684 Python \u8b8a\u6578\uff0c\u4e26\u8acb\u4e86\u89e3 immutable \u8207 mutable \u7684\u5dee\u5225\u3002"
     ]
    },
    {
     "cell_type": "heading",
     "level": 1,
     "metadata": {},
     "source": [
      "Chapter 4 Control Flows"
     ]
    },
    {
     "cell_type": "markdown",
     "metadata": {},
     "source": [
      "\u6bcf\u4e00\u500b\u90fd\u5f88\u91cd\u8981\uff0c\u8a73\u8b80\u3002\n",
      "\n",
      "## 4.8 Coding Style\n",
      "\n",
      "\u9019\u500b\u662f\u5beb\u7a0b\u5f0f\u7684\u597d\u7fd2\u6163\uff0c\u5982\u679c\u4f60\u4eca\u5929\u5beb\u4e86\u4e00\u500b\u9019\u6a23\u7684\u7a0b\u5f0f\n",
      "\n",
      "```\n",
      "  if A > 1:  return True; else if B: return True;    \n",
      "def F1234321(): IDontGiveAFuck(ABOUTcodingSTYLE); return \"\u54ac\u6211\u554a\"\n",
      "def abcd(): pass\n",
      "```\n",
      "\n",
      "\u6703\u8b93\u591a\u6578\u4eba\u6839\u672c\u4e0d\u60f3\u770b\u4f60\u7684\u7a0b\u5f0f\u3002\n",
      "\n",
      "\u9019\u500b\u7a0b\u5f0f\u6709\u54ea\u4e9b\u554f\u984c\uff1a\n",
      "\n",
      "* \u6703\u8b8a\u7684\u8b8a\u6578\u8981\u5c0f\u5beb\u7528 `_` \u9023\u63a5 ( `A -> a`, `B -> b` ) \u800c\u4e14\u540d\u5b57\u8981\u6709\u610f\u7fa9\n",
      "* \u8a72\u63db\u884c\u5c31\u63db\u884c\uff0c\u4e0d\u8981\u628a\u4e00\u5806\u5f0f\u5b50\u9023\u5728\u4e00\u8d77\n",
      "* \u7e2e\u6392\u8981\u7d71\u4e00\uff0c\u73fe\u5728\u5927\u591a\u898f\u5b9a\u4f7f\u7528\u300c\u56db\u500b\u7a7a\u767d\u300d\uff0c\u8acb\u8a2d\u5b9a\u81ea\u5df1\u7684\u7a0b\u5f0f\u7de8\u8f2f\u5668\u3002\n",
      "    * \u5982\u679c\u4e0d\u80fd\u8a2d\u5b9a\uff0c\u5c31\u8868\u793a\u4f60\u8a72\u63db\u4e00\u500b\u7de8\u8f2f\u5668\u4e86\u3002\n",
      "* function \u7684\u540d\u5b57\u6bd4\u7167\u8b8a\u6578\u898f\u5247\uff0c\u5982\u679c\u53ef\u80fd\u8acb\u76e1\u91cf\u5beb\u8a3b\u89e3\u3002"
     ]
    },
    {
     "cell_type": "heading",
     "level": 1,
     "metadata": {},
     "source": [
      "Chapter 5 Data Structures"
     ]
    },
    {
     "cell_type": "markdown",
     "metadata": {},
     "source": [
      "\u5f88\u91cd\u8981\uff01\u4e00\u6a23\u8a73\u8b80\n",
      "\n",
      "### 5.1.3 List Comprehensions \n",
      "\u9019\u500b\u7b97\u662f Python \u5e38\u7528\u7684\u6280\u5de7\uff0c\u8acb\u5e38\u5e38\u4f7f\u7528\u5b83\uff0c\u800c\u4e0d\u662f\u5beb\u4e00\u5806 `for` \u8ff4\u5708\u3002 "
     ]
    },
    {
     "cell_type": "code",
     "collapsed": false,
     "input": [
      "num_list = range(10)\n",
      "new_list = []\n",
      "for x in num_list:\n",
      "    new_list.append('number: ' + str(x))\n",
      "new_list"
     ],
     "language": "python",
     "metadata": {},
     "outputs": [
      {
       "metadata": {},
       "output_type": "pyout",
       "prompt_number": 15,
       "text": [
        "['number: 0',\n",
        " 'number: 1',\n",
        " 'number: 2',\n",
        " 'number: 3',\n",
        " 'number: 4',\n",
        " 'number: 5',\n",
        " 'number: 6',\n",
        " 'number: 7',\n",
        " 'number: 8',\n",
        " 'number: 9']"
       ]
      }
     ],
     "prompt_number": 15
    },
    {
     "cell_type": "markdown",
     "metadata": {},
     "source": [
      "\u5b8c\u5168\u7b49\u65bc\u4f7f\u7528 List Comprehension"
     ]
    },
    {
     "cell_type": "code",
     "collapsed": false,
     "input": [
      "num_list = range(10)\n",
      "num_list = ['number: ' + str(x) for x in num_list]\n",
      "num_list"
     ],
     "language": "python",
     "metadata": {},
     "outputs": [
      {
       "metadata": {},
       "output_type": "pyout",
       "prompt_number": 16,
       "text": [
        "['number: 0',\n",
        " 'number: 1',\n",
        " 'number: 2',\n",
        " 'number: 3',\n",
        " 'number: 4',\n",
        " 'number: 5',\n",
        " 'number: 6',\n",
        " 'number: 7',\n",
        " 'number: 8',\n",
        " 'number: 9']"
       ]
      }
     ],
     "prompt_number": 16
    },
    {
     "cell_type": "markdown",
     "metadata": {},
     "source": [
      "\u5982\u679c\u6703\u7528 String \u7684 `format()` \uff0c\u4ee5\u4e0b\u7684 code \u6703\u66f4\u597d\u8b80"
     ]
    },
    {
     "cell_type": "code",
     "collapsed": false,
     "input": [
      "num_list = range(10)\n",
      "num_list = ['number: {:d}'.format(x) for x in num_list]\n",
      "num_list"
     ],
     "language": "python",
     "metadata": {},
     "outputs": [
      {
       "metadata": {},
       "output_type": "pyout",
       "prompt_number": 17,
       "text": [
        "['number: 0',\n",
        " 'number: 1',\n",
        " 'number: 2',\n",
        " 'number: 3',\n",
        " 'number: 4',\n",
        " 'number: 5',\n",
        " 'number: 6',\n",
        " 'number: 7',\n",
        " 'number: 8',\n",
        " 'number: 9']"
       ]
      }
     ],
     "prompt_number": 17
    },
    {
     "cell_type": "markdown",
     "metadata": {},
     "source": [
      "\u6709\u52a0 `if` \u4fbf\u53ea\u6703\u57f7\u884c\u6eff\u8db3 `if` condition \u7684 element"
     ]
    },
    {
     "cell_type": "code",
     "collapsed": false,
     "input": [
      "num_list = range(10)\n",
      "[5 for x in num_list if x <= 5]"
     ],
     "language": "python",
     "metadata": {},
     "outputs": [
      {
       "metadata": {},
       "output_type": "pyout",
       "prompt_number": 25,
       "text": [
        "[5, 5, 5, 5, 5, 5]"
       ]
      }
     ],
     "prompt_number": 25
    },
    {
     "cell_type": "markdown",
     "metadata": {},
     "source": [
      "\u5982\u679c\u662f\u6709 else \u7684\u60c5\u6cc1\uff0c\u8a9e\u6cd5\u8b8a\u5f97\u6bd4\u8f03\u7279\u6b8a"
     ]
    },
    {
     "cell_type": "code",
     "collapsed": false,
     "input": [
      "num_list = range(10)\n",
      "[5 if x <= 5 else 6 for x in num_list]"
     ],
     "language": "python",
     "metadata": {},
     "outputs": [
      {
       "metadata": {},
       "output_type": "pyout",
       "prompt_number": 24,
       "text": [
        "[5, 5, 5, 5, 5, 5, 6, 6, 6, 6]"
       ]
      }
     ],
     "prompt_number": 24
    },
    {
     "cell_type": "markdown",
     "metadata": {},
     "source": [
      "\u5be6\u969b\u4e0a\u8b8a\u6210\u9019\u6a23\uff0c\u4e00\u5b9a\u6703\u628a list \u4e2d\u5168\u90e8\u7684 element \u8dd1\u904e\u4e00\u904d"
     ]
    },
    {
     "cell_type": "code",
     "collapsed": false,
     "input": [
      "[(5 if x <= 5 else 6) for x in num_list]"
     ],
     "language": "python",
     "metadata": {},
     "outputs": [
      {
       "metadata": {},
       "output_type": "pyout",
       "prompt_number": 26,
       "text": [
        "[5, 5, 5, 5, 5, 5, 6, 6, 6, 6]"
       ]
      }
     ],
     "prompt_number": 26
    },
    {
     "cell_type": "markdown",
     "metadata": {},
     "source": [
      "`if` \u4e2d\u4e00\u5b9a\u8981\u56de\u50b3\u4e00\u500b\u503c\u4f5c\u70ba\u7576\u6b21 element \u7684\u503c\u3002\n",
      "\n",
      "\u6240\u4ee5\u6c92\u6709\u5beb `else` \u786c\u628a `if` \u653e\u524d\u9762\u5c31\u6703\u8b8a\u6210\u4e0d\u5408\u6cd5\u7684\u8a9e\u6cd5\u3002"
     ]
    },
    {
     "cell_type": "code",
     "collapsed": false,
     "input": [
      "[5 if x <= 5 for x in num_list]"
     ],
     "language": "python",
     "metadata": {},
     "outputs": [
      {
       "ename": "SyntaxError",
       "evalue": "invalid syntax (<ipython-input-29-dfd813c61c16>, line 1)",
       "output_type": "pyerr",
       "traceback": [
        "\u001b[0;36m  File \u001b[0;32m\"<ipython-input-29-dfd813c61c16>\"\u001b[0;36m, line \u001b[0;32m1\u001b[0m\n\u001b[0;31m    [5 if x <= 5 for x in num_list]\u001b[0m\n\u001b[0m                   ^\u001b[0m\n\u001b[0;31mSyntaxError\u001b[0m\u001b[0;31m:\u001b[0m invalid syntax\n"
       ]
      }
     ],
     "prompt_number": 29
    },
    {
     "cell_type": "markdown",
     "metadata": {},
     "source": [
      "## 5.6 Looping Techs\n",
      "\n",
      "\u6703\u4e00\u76f4\u7528\u5230"
     ]
    },
    {
     "cell_type": "heading",
     "level": 1,
     "metadata": {},
     "source": [
      "Chapter 6 Modules"
     ]
    },
    {
     "cell_type": "code",
     "collapsed": false,
     "input": [
      "import sys\n",
      "print(sys.path)"
     ],
     "language": "python",
     "metadata": {},
     "outputs": [
      {
       "output_type": "stream",
       "stream": "stdout",
       "text": [
        "['', '/usr/local/Cellar/python3/3.3.2/Frameworks/Python.framework/Versions/3.3/lib/python3.3/site-packages/setuptools-0.9.7-py3.3.egg', '/usr/local/Cellar/python3/3.3.2/Frameworks/Python.framework/Versions/3.3/lib/python3.3/site-packages/pip-1.4-py3.3.egg', '/usr/local/Cellar/python3/3.3.2/Frameworks/Python.framework/Versions/3.3/lib/python3.3/site-packages/pyzmq-13.1.0-py3.3-macosx-10.7-x86_64.egg', '/usr/local/Cellar/python3/3.3.2/Frameworks/Python.framework/Versions/3.3/lib/python3.3/site-packages/tornado-3.1-py3.3.egg', '/usr/local/Cellar/python3/3.3.2/Frameworks/Python.framework/Versions/3.3/lib/python3.3/site-packages/Pygments-1.6-py3.3.egg', '/usr/local/Cellar/python3/3.3.2/Frameworks/Python.framework/Versions/3.3/lib/python33.zip', '/usr/local/Cellar/python3/3.3.2/Frameworks/Python.framework/Versions/3.3/lib/python3.3', '/usr/local/Cellar/python3/3.3.2/Frameworks/Python.framework/Versions/3.3/lib/python3.3/plat-darwin', '/usr/local/Cellar/python3/3.3.2/Frameworks/Python.framework/Versions/3.3/lib/python3.3/lib-dynload', '/usr/local/Cellar/python3/3.3.2/Frameworks/Python.framework/Versions/3.3/lib/python3.3/site-packages', '/usr/local/Cellar/python3/3.3.2/Frameworks/Python.framework/Versions/3.3/lib/python3.3/site-packages/IPython/extensions']\n"
       ]
      }
     ],
     "prompt_number": 34
    },
    {
     "cell_type": "heading",
     "level": 1,
     "metadata": {},
     "source": [
      "Chapter 7 Input and Output"
     ]
    },
    {
     "cell_type": "markdown",
     "metadata": {},
     "source": [
      "`pickle` \u53ef\u4ee5\u8df3\u904e\uff0c\u5728 python \u88e1\u8b80\u6a94\u8ddf\u958b\u6a94\u90fd\u5f88\u65b9\u4fbf\uff0c\u5f88\u5e38\u7528"
     ]
    },
    {
     "cell_type": "heading",
     "level": 1,
     "metadata": {},
     "source": [
      "Chapter 8 Exceptions"
     ]
    },
    {
     "cell_type": "heading",
     "level": 1,
     "metadata": {},
     "source": [
      "Chapter 9 Classes"
     ]
    },
    {
     "cell_type": "code",
     "collapsed": false,
     "input": [
      "a = True\n",
      "isinstance(a, int), isinstance(a, bool)\n",
      "issubclass(bool, int), issubclass(a.__class__, int)"
     ],
     "language": "python",
     "metadata": {},
     "outputs": [
      {
       "metadata": {},
       "output_type": "pyout",
       "prompt_number": 50,
       "text": [
        "(True, True)"
       ]
      }
     ],
     "prompt_number": 50
    },
    {
     "cell_type": "markdown",
     "metadata": {},
     "source": [
      "## 9.10 Generators\n",
      "\u883b\u91cd\u8981\u7684"
     ]
    }
   ],
   "metadata": {}
  }
 ]
}